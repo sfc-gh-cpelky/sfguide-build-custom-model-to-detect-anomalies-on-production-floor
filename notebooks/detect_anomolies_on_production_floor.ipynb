{
 "metadata": {
  "kernelspec": {
   "display_name": "Python 3.8.16 ('pysnowpark_MQTT')",
   "language": "python",
   "name": "python3"
  },
  "language_info": {
   "codemirror_mode": {
    "name": "ipython",
    "version": 3
   },
   "file_extension": ".py",
   "mimetype": "text/x-python",
   "name": "python",
   "nbconvert_exporter": "python",
   "pygments_lexer": "ipython3",
   "version": "3.8.16"
  },
  "vscode": {
   "interpreter": {
    "hash": "00077ac84e834c12a217b88ae242e665c0ef694a2f0a25443d1fce6758974c6f"
   }
  },
  "lastEditStatus": {
   "notebookId": "lufm4cfjqoi3c54donto",
   "authorId": "530051324088",
   "authorName": "CPELKY",
   "authorEmail": "christopher.pelky@snowflake.com",
   "sessionId": "4b13be96-15ff-4247-b32f-b36a6f0ff712",
   "lastEditTime": 1741025607402
  }
 },
 "nbformat_minor": 4,
 "nbformat": 4,
 "cells": [
  {
   "attachments": {},
   "cell_type": "markdown",
   "id": "ce110000-1111-2222-3333-ffffff000000",
   "metadata": {
    "collapsed": false,
    "name": "introduction",
    "resultHeight": 598
   },
   "source": [
    "# ANOMALY DETECTION for a Production Floor\n",
    "\n",
    "## Introduction\n",
    "\n",
    "Anomaly detection is process of identifying outliers in data and detecting rare occurrences which are different from the established pattern of behaviors. This technique is extremly important in operational processes in many industries. This solution will also lay the ground to start predicting outliers on a machine level.\n",
    "\n",
    "This notebook covers :\n",
    "\n",
    "\n",
    "1. Exploratory Data Analysis\n",
    "\n",
    "2. Train a Keras LSTM auto-encoder using prepared training data\n",
    "\n",
    "3. Log the model to Snowflake Registry\n",
    "\n",
    "4. Calculate the Threshold from the reconstruction convolutional autoencoder model\n",
    "\n",
    "4. Create a threshold range for various sensors and carry inference \n",
    "\n",
    "5. Detect anomalies on test dataset\n",
    "\n",
    "\n",
    "The dataset consists of individual files that are 1-second vibration signal snapshots recorded at specific intervals.\n",
    "\n",
    "\n",
    "#### Model : \n",
    "\n",
    "The autoencoder neural network model is created using Long Short-Term Memory (LSTM) recurrent neural network (RNN) cells within the Keras / TensorFlow framework.\n"
   ]
  },
  {
   "attachments": {},
   "cell_type": "markdown",
   "id": "ce110000-1111-2222-3333-ffffff000006",
   "metadata": {
    "name": "Initial_setup",
    "resultHeight": 60
   },
   "source": [
    "## Setup"
   ]
  },
  {
   "cell_type": "code",
   "execution_count": null,
   "id": "c04c14c0-d8d4-463b-b286-5f58144bde08",
   "metadata": {
    "collapsed": false,
    "language": "python",
    "name": "install_tf",
    "resultHeight": 949
   },
   "outputs": [],
   "source": [
    "!pip install tensorflow==2.10.0"
   ]
  },
  {
   "attachments": {},
   "cell_type": "markdown",
   "id": "ce110000-1111-2222-3333-ffffff000007",
   "metadata": {
    "collapsed": false,
    "name": "import_packages",
    "resultHeight": 60
   },
   "source": [
    "## Import Packages\n"
   ]
  },
  {
   "cell_type": "code",
   "execution_count": 10,
   "id": "ce110000-1111-2222-3333-ffffff000008",
   "metadata": {
    "collapsed": false,
    "language": "python",
    "name": "imports",
    "resultHeight": 54,
    "tags": []
   },
   "outputs": [],
   "source": [
    "import json\n",
    "from snowflake.snowpark.session import Session\n",
    "import snowflake.snowpark.functions as F\n",
    "import snowflake.snowpark.types as T\n",
    "from snowflake.snowpark.functions import *\n",
    "# import libraries\n",
    "\n",
    "import os, configparser ,json ,logging\n",
    "import pandas as pd\n",
    "from datetime import datetime\n",
    "import numpy as np\n",
    "from sklearn.preprocessing import MinMaxScaler\n",
    "import joblib\n",
    "import seaborn as sns\n",
    "sns.set(color_codes=True)\n",
    "import matplotlib.pyplot as plt\n",
    "\n",
    "from numpy.random import seed\n",
    "\n",
    "#from tensorflow import set_random_seed\n",
    "import tensorflow as tf\n",
    "#tf.logging.set_verbosity(tf.logging.ERROR)\n",
    "\n",
    "import keras\n",
    "from keras.layers import Input, Dropout, Dense, LSTM, TimeDistributed, RepeatVector\n",
    "from keras.models import Model\n",
    "from keras import regularizers\n",
    "\n",
    "\n",
    "from IPython.display import display, HTML, Image , Markdown\n",
    "\n",
    "import streamlit as st\n",
    "import pandas as pd\n",
    "from datetime import datetime, timedelta\n",
    "\n",
    "# We can also use Snowpark for our analyses!\n",
    "from snowflake.snowpark.context import get_active_session\n",
    "session = get_active_session()\n",
    "\n",
    "from snowflake.ml.registry import Registry\n",
    "from snowflake.ml.modeling.metrics import (\n",
    "roc_auc_score,  \n",
    "precision_score, \n",
    "recall_score, \n",
    "confusion_matrix)\n",
    "import pprint\n",
    "\n",
    "# Add a query tag to the session.\n",
    "session.query_tag = {\"origin\":\"sf_sit-is\", \"name\":\"anomaly_detection\", \"version\":{\"major\":1, \"minor\":0}}\n",
    "solution_prefix = session.get_current_warehouse()\n",
    "solution_prefix"
   ]
  },
  {
   "cell_type": "code",
   "execution_count": null,
   "id": "26b8934c-ff13-40f4-b4dd-ce739108b5c4",
   "metadata": {
    "collapsed": false,
    "language": "python",
    "name": "datecastimg",
    "resultHeight": 0
   },
   "outputs": [],
   "source": [
    "import pandas as pd\n",
    "import numpy as np\n",
    "\n",
    "# Parameters\n",
    "num_records = 1000\n",
    "start_time = pd.Timestamp(\"2024-06-12 10:52:00\")\n",
    "interval = pd.Timedelta(minutes=10)\n",
    "\n",
    "# Generate timestamps\n",
    "timestamps = [start_time + i * interval for i in range(num_records)]\n",
    "\n",
    "# Generate normal sensor data\n",
    "np.random.seed(42)\n",
    "temperature = np.random.normal(loc=0.06, scale=0.002, size=num_records)\n",
    "vibration = np.random.normal(loc=0.075, scale=0.002, size=num_records)\n",
    "motor_rpm = np.random.normal(loc=0.045, scale=0.001, size=num_records)\n",
    "motor_amps = np.random.normal(loc=0.084, scale=0.002, size=num_records)\n",
    "\n",
    "# Extra columns\n",
    "factory_floors = np.random.choice([\"Floor A\", \"Floor B\", \"Floor C\"], num_records)\n",
    "production_units = np.random.choice([\"Unit 1\", \"Unit 2\", \"Unit 3\", \"Unit 4\", \"Unit 5\"], num_records)\n",
    "shifts = np.random.choice([\"Morning\", \"Afternoon\", \"Night\"], num_records)\n",
    "operator_ids = np.random.randint(1000, 1100, num_records)  # Random operator IDs between 1000 and 1099\n",
    "machine_status = np.random.choice([\"Running\", \"Idle\", \"Maintenance\"], num_records, p=[0.8, 0.15, 0.05])\n",
    "\n",
    "# Introduce subtle anomalies in the last 200 records (10 hours at 10-minute intervals)\n",
    "anomaly_start_index = num_records - 200\n",
    "temperature[anomaly_start_index:] += np.random.uniform(0.005, 0.01, size=200)\n",
    "vibration[anomaly_start_index:] += np.random.uniform(0.003, 0.007, size=200)\n",
    "motor_rpm[anomaly_start_index:] -= np.random.uniform(0.002, 0.005, size=200)\n",
    "motor_amps[anomaly_start_index:] += np.random.uniform(0.005, 0.01, size=200)\n",
    "\n",
    "# Flag anomalies\n",
    "anomaly_flag = np.zeros(num_records, dtype=int)\n",
    "anomaly_flag[anomaly_start_index:] = 1\n",
    "\n",
    "# Update MACHINE_STATUS for anomalies\n",
    "machine_status = np.where(anomaly_flag == 1, \"Quality Issue\", machine_status)\n",
    "\n",
    "# Create the DataFrame\n",
    "data = {\n",
    "    \"TEMPERATURE\": temperature,\n",
    "    \"VIBRATION\": vibration,\n",
    "    \"MOTOR_RPM\": motor_rpm,\n",
    "    \"MOTOR_AMPS\": motor_amps,\n",
    "    \"MEASURE_TS\": timestamps,\n",
    "    \"FACTORY_FLOOR\": factory_floors,\n",
    "    \"PRODUCTION_UNIT\": production_units,\n",
    "    \"SHIFT\": shifts,\n",
    "    \"OPERATOR_ID\": operator_ids,\n",
    "    \"MACHINE_STATUS\": machine_status,\n",
    "    \"ANOMALY_FLAG\": anomaly_flag,\n",
    "}\n",
    "snow_pd = pd.DataFrame(data)\n",
    "\n",
    "# Drop ANOMALY_FLAG before saving to the Snowflake table\n",
    "snow_pd = snow_pd.drop('ANOMALY_FLAG', axis=1)\n",
    "\n",
    "# Convert to Snowpark DataFrame\n",
    "spdf = session.create_dataframe(snow_pd)\n",
    "\n",
    "# Save to Snowflake table\n",
    "spdf.write.save_as_table(\"SENSOR_PREPARED\", mode=\"overwrite\")\n"
   ]
  },
  {
   "attachments": {},
   "cell_type": "markdown",
   "id": "ce110000-1111-2222-3333-ffffff000011",
   "metadata": {
    "name": "data_folder",
    "resultHeight": 7098
   },
   "source": [
    "#### Call for Action :\n",
    "\n",
    "Unzip the folders in the /data/NASA_Dataset directory. The files in the *_pt1.zip folder will be used.\n",
    "\n",
    "The following cell reads the files from the unzipped folder and creates a pandas dataframe. The timestamp associated with the sensor readings are recorded in the file name. This is set as the index of the pandas dataframe."
   ]
  },
  {
   "attachments": {},
   "cell_type": "markdown",
   "id": "ce110000-1111-2222-3333-ffffff000016",
   "metadata": {
    "collapsed": false,
    "name": "process_Data",
    "resultHeight": 107
   },
   "source": [
    "## DATA PROCESSING\n",
    "#### 1.Exploration on SENSOR_PREPARED"
   ]
  },
  {
   "cell_type": "code",
   "execution_count": 16,
   "id": "ce110000-1111-2222-3333-ffffff000017",
   "metadata": {
    "collapsed": false,
    "language": "python",
    "name": "view_sensorprepared",
    "resultHeight": 329,
    "tags": []
   },
   "outputs": [
    {
     "name": "stdout",
     "output_type": "stream",
     "text": [
      "-----------------------------------------------------\n",
      "|\"Bearing1\"  |\"Bearing2\"  |\"Bearing3\"  |\"Bearing4\"  |\n",
      "-----------------------------------------------------\n",
      "|0.060236    |0.074227    |0.083926    |0.044443    |\n",
      "|0.061455    |0.073844    |0.084457    |0.045081    |\n",
      "|0.061361    |0.075609    |0.082837    |0.045118    |\n",
      "|0.061665    |0.073279    |0.084879    |0.044172    |\n",
      "|0.061944    |0.074593    |0.082626    |0.044659    |\n",
      "|0.061231    |0.074172    |0.082022    |0.04384     |\n",
      "|0.06228     |0.075808    |0.084372    |0.044272    |\n",
      "|0.05989     |0.075115    |0.084506    |0.043974    |\n",
      "|0.062371    |0.075505    |0.082238    |0.044171    |\n",
      "|0.060837    |0.074648    |0.080552    |0.043602    |\n",
      "-----------------------------------------------------\n",
      "\n"
     ]
    }
   ],
   "source": [
    "spdf.show()"
   ]
  },
  {
   "cell_type": "code",
   "execution_count": 17,
   "id": "ce110000-1111-2222-3333-ffffff000018",
   "metadata": {
    "collapsed": false,
    "language": "python",
    "name": "random_seed",
    "resultHeight": 0,
    "tags": []
   },
   "outputs": [],
   "source": [
    "# set random seed\n",
    "seed(10)\n",
    "tf.random.set_seed(10)"
   ]
  },
  {
   "cell_type": "code",
   "execution_count": 18,
   "id": "ce110000-1111-2222-3333-ffffff000019",
   "metadata": {
    "collapsed": false,
    "language": "python",
    "name": "data_shape",
    "resultHeight": 57,
    "tags": []
   },
   "outputs": [
    {
     "data": {
      "text/plain": [
       "(565, 4)"
      ]
     },
     "execution_count": 18,
     "metadata": {},
     "output_type": "execute_result"
    }
   ],
   "source": [
    "# Represent the dimensionality of the DataFrame.\n",
    "snow_pd.shape"
   ]
  },
  {
   "cell_type": "code",
   "execution_count": 19,
   "id": "ce110000-1111-2222-3333-ffffff000020",
   "metadata": {
    "collapsed": false,
    "language": "python",
    "name": "view_stats",
    "resultHeight": 357,
    "tags": []
   },
   "outputs": [
    {
     "data": {
      "text/html": [
       "<div>\n",
       "<style scoped>\n",
       "    .dataframe tbody tr th:only-of-type {\n",
       "        vertical-align: middle;\n",
       "    }\n",
       "\n",
       "    .dataframe tbody tr th {\n",
       "        vertical-align: top;\n",
       "    }\n",
       "\n",
       "    .dataframe thead th {\n",
       "        text-align: right;\n",
       "    }\n",
       "</style>\n",
       "<table border=\"1\" class=\"dataframe\">\n",
       "  <thead>\n",
       "    <tr style=\"text-align: right;\">\n",
       "      <th></th>\n",
       "      <th>Bearing1</th>\n",
       "      <th>Bearing2</th>\n",
       "      <th>Bearing3</th>\n",
       "      <th>Bearing4</th>\n",
       "    </tr>\n",
       "  </thead>\n",
       "  <tbody>\n",
       "    <tr>\n",
       "      <th>count</th>\n",
       "      <td>565.000000</td>\n",
       "      <td>565.000000</td>\n",
       "      <td>565.000000</td>\n",
       "      <td>565.000000</td>\n",
       "    </tr>\n",
       "    <tr>\n",
       "      <th>mean</th>\n",
       "      <td>0.061293</td>\n",
       "      <td>0.074757</td>\n",
       "      <td>0.078144</td>\n",
       "      <td>0.044065</td>\n",
       "    </tr>\n",
       "    <tr>\n",
       "      <th>std</th>\n",
       "      <td>0.001829</td>\n",
       "      <td>0.001018</td>\n",
       "      <td>0.001987</td>\n",
       "      <td>0.000525</td>\n",
       "    </tr>\n",
       "    <tr>\n",
       "      <th>min</th>\n",
       "      <td>0.058293</td>\n",
       "      <td>0.072106</td>\n",
       "      <td>0.073828</td>\n",
       "      <td>0.042777</td>\n",
       "    </tr>\n",
       "    <tr>\n",
       "      <th>25%</th>\n",
       "      <td>0.060349</td>\n",
       "      <td>0.074040</td>\n",
       "      <td>0.076657</td>\n",
       "      <td>0.043697</td>\n",
       "    </tr>\n",
       "    <tr>\n",
       "      <th>50%</th>\n",
       "      <td>0.060920</td>\n",
       "      <td>0.074754</td>\n",
       "      <td>0.077741</td>\n",
       "      <td>0.044053</td>\n",
       "    </tr>\n",
       "    <tr>\n",
       "      <th>75%</th>\n",
       "      <td>0.061575</td>\n",
       "      <td>0.075505</td>\n",
       "      <td>0.079406</td>\n",
       "      <td>0.044408</td>\n",
       "    </tr>\n",
       "    <tr>\n",
       "      <th>max</th>\n",
       "      <td>0.070135</td>\n",
       "      <td>0.077802</td>\n",
       "      <td>0.084879</td>\n",
       "      <td>0.045920</td>\n",
       "    </tr>\n",
       "  </tbody>\n",
       "</table>\n",
       "</div>"
      ],
      "text/plain": [
       "         Bearing1    Bearing2    Bearing3    Bearing4\n",
       "count  565.000000  565.000000  565.000000  565.000000\n",
       "mean     0.061293    0.074757    0.078144    0.044065\n",
       "std      0.001829    0.001018    0.001987    0.000525\n",
       "min      0.058293    0.072106    0.073828    0.042777\n",
       "25%      0.060349    0.074040    0.076657    0.043697\n",
       "50%      0.060920    0.074754    0.077741    0.044053\n",
       "75%      0.061575    0.075505    0.079406    0.044408\n",
       "max      0.070135    0.077802    0.084879    0.045920"
      ]
     },
     "execution_count": 19,
     "metadata": {},
     "output_type": "execute_result"
    }
   ],
   "source": [
    "# Calculate statistics for the dataset\n",
    "snow_pd.describe()"
   ]
  },
  {
   "cell_type": "code",
   "execution_count": 20,
   "id": "ce110000-1111-2222-3333-ffffff000021",
   "metadata": {
    "collapsed": false,
    "language": "python",
    "name": "analysis",
    "resultHeight": 239,
    "tags": []
   },
   "outputs": [
    {
     "name": "stdout",
     "output_type": "stream",
     "text": [
      "Bearing1 : 532\n",
      "Bearing2 : 529\n",
      "Bearing3 : 540\n",
      "Bearing4 : 484\n"
     ]
    }
   ],
   "source": [
    "#Distinct values per column\n",
    "unique_values = []\n",
    "for column in snow_pd.columns:\n",
    "    print(column, \":\", snow_pd[column].nunique())"
   ]
  },
  {
   "cell_type": "code",
   "execution_count": 21,
   "id": "ce110000-1111-2222-3333-ffffff000022",
   "metadata": {
    "collapsed": false,
    "language": "python",
    "name": "features",
    "resultHeight": 427,
    "tags": []
   },
   "outputs": [
    {
     "data": {
      "text/html": [
       "<div>\n",
       "<style scoped>\n",
       "    .dataframe tbody tr th:only-of-type {\n",
       "        vertical-align: middle;\n",
       "    }\n",
       "\n",
       "    .dataframe tbody tr th {\n",
       "        vertical-align: top;\n",
       "    }\n",
       "\n",
       "    .dataframe thead th {\n",
       "        text-align: right;\n",
       "    }\n",
       "</style>\n",
       "<table border=\"1\" class=\"dataframe\">\n",
       "  <thead>\n",
       "    <tr style=\"text-align: right;\">\n",
       "      <th></th>\n",
       "      <th>Bearing1</th>\n",
       "      <th>Bearing2</th>\n",
       "      <th>Bearing3</th>\n",
       "      <th>Bearing4</th>\n",
       "    </tr>\n",
       "    <tr>\n",
       "      <th>MEASURE_TS</th>\n",
       "      <th></th>\n",
       "      <th></th>\n",
       "      <th></th>\n",
       "      <th></th>\n",
       "    </tr>\n",
       "  </thead>\n",
       "  <tbody>\n",
       "    <tr>\n",
       "      <th>2023-02-12 10:52:39</th>\n",
       "      <td>0.060236</td>\n",
       "      <td>0.074227</td>\n",
       "      <td>0.083926</td>\n",
       "      <td>0.044443</td>\n",
       "    </tr>\n",
       "    <tr>\n",
       "      <th>2023-02-12 11:02:39</th>\n",
       "      <td>0.061455</td>\n",
       "      <td>0.073844</td>\n",
       "      <td>0.084457</td>\n",
       "      <td>0.045081</td>\n",
       "    </tr>\n",
       "    <tr>\n",
       "      <th>2023-02-12 11:12:39</th>\n",
       "      <td>0.061361</td>\n",
       "      <td>0.075609</td>\n",
       "      <td>0.082837</td>\n",
       "      <td>0.045118</td>\n",
       "    </tr>\n",
       "    <tr>\n",
       "      <th>2023-02-12 11:22:39</th>\n",
       "      <td>0.061665</td>\n",
       "      <td>0.073279</td>\n",
       "      <td>0.084879</td>\n",
       "      <td>0.044172</td>\n",
       "    </tr>\n",
       "    <tr>\n",
       "      <th>2023-02-12 11:32:39</th>\n",
       "      <td>0.061944</td>\n",
       "      <td>0.074593</td>\n",
       "      <td>0.082626</td>\n",
       "      <td>0.044659</td>\n",
       "    </tr>\n",
       "  </tbody>\n",
       "</table>\n",
       "</div>"
      ],
      "text/plain": [
       "                     Bearing1  Bearing2  Bearing3  Bearing4\n",
       "MEASURE_TS                                                 \n",
       "2023-02-12 10:52:39  0.060236  0.074227  0.083926  0.044443\n",
       "2023-02-12 11:02:39  0.061455  0.073844  0.084457  0.045081\n",
       "2023-02-12 11:12:39  0.061361  0.075609  0.082837  0.045118\n",
       "2023-02-12 11:22:39  0.061665  0.073279  0.084879  0.044172\n",
       "2023-02-12 11:32:39  0.061944  0.074593  0.082626  0.044659"
      ]
     },
     "execution_count": 21,
     "metadata": {},
     "output_type": "execute_result"
    }
   ],
   "source": [
    "# Quickly test if the object looks as desired \n",
    "snow_pd.columns\n"
   ]
  },
  {
   "cell_type": "code",
   "execution_count": null,
   "id": "0140a339-4f55-42bf-be61-e95077773f96",
   "metadata": {
    "collapsed": false,
    "language": "python",
    "name": "dataset",
    "resultHeight": 252
   },
   "outputs": [],
   "source": [
    "snow_pd.head()\n"
   ]
  },
  {
   "cell_type": "code",
   "execution_count": null,
   "id": "6c5d20d8-8bff-4082-a5c5-90c6bc9ea7dc",
   "metadata": {
    "collapsed": false,
    "language": "python",
    "name": "index_set",
    "resultHeight": 195
   },
   "outputs": [],
   "source": [
    "snow_pd.set_index('MEASURE_TS', inplace=True)\n",
    "\n",
    "print(snow_pd.head())"
   ]
  },
  {
   "cell_type": "code",
   "execution_count": null,
   "id": "13017175-63a2-40a3-b9f3-e9efa1cc6116",
   "metadata": {
    "collapsed": false,
    "language": "python",
    "name": "view_timestamps",
    "resultHeight": 38
   },
   "outputs": [],
   "source": [
    "\n",
    "max_timestamp = snow_pd.index.max()\n",
    "min_timestamp = snow_pd.index.min()\n",
    "print(min_timestamp, max_timestamp)"
   ]
  },
  {
   "cell_type": "code",
   "execution_count": 23,
   "id": "ce110000-1111-2222-3333-ffffff000024",
   "metadata": {
    "collapsed": false,
    "language": "python",
    "name": "Train_Test_Split",
    "resultHeight": 83,
    "tags": []
   },
   "outputs": [
    {
     "name": "stdout",
     "output_type": "stream",
     "text": [
      "Training dataset shape: (433, 4)\n",
      "Test dataset shape: (121, 4)\n"
     ]
    }
   ],
   "source": [
    "# Ensure the index is a DatetimeIndex\n",
    "snow_pd.index = pd.to_datetime(snow_pd.index)\n",
    "\n",
    "# Split the dataset\n",
    "train = snow_pd[:'2024-06-18 00:02:00']\n",
    "test = snow_pd['2024-06-18 00:12:00':]\n",
    "\n",
    "# Print shapes\n",
    "print(\"Snow_pd shape:\", snow_pd.shape)\n",
    "print(\"Training dataset shape:\", train.shape)\n",
    "print(\"Test dataset shape:\", test.shape)\n",
    "traintemp=train\n",
    "testtemp=test"
   ]
  },
  {
   "cell_type": "code",
   "execution_count": null,
   "id": "972a7b13-8824-4f35-b62a-86df9bf9ac8d",
   "metadata": {
    "collapsed": false,
    "language": "python",
    "name": "set_measure_ts",
    "resultHeight": 0
   },
   "outputs": [],
   "source": [
    "train = train.reset_index() \n",
    "test = test.reset_index() \n",
    "\n",
    "\n",
    "train['MEASURE_TS'] = pd.to_datetime(train['MEASURE_TS'], errors='coerce')\n",
    "test['MEASURE_TS'] = pd.to_datetime(test['MEASURE_TS'], errors='coerce')\n"
   ]
  },
  {
   "cell_type": "code",
   "execution_count": null,
   "id": "39fc7c86-6c07-457c-9401-5a6acac54513",
   "metadata": {
    "collapsed": false,
    "language": "python",
    "name": "save_To_Table",
    "resultHeight": 0
   },
   "outputs": [],
   "source": [
    "traindf=session.createDataFrame(train)\n",
    "testdf=session.createDataFrame(test)\n",
    "traindf.write.mode(\"overwrite\").save_as_table(\"AE_TRAIN\")\n",
    "testdf.write.mode(\"overwrite\").save_as_table(\"AE_TEST\")\n"
   ]
  },
  {
   "attachments": {},
   "cell_type": "markdown",
   "id": "ce110000-1111-2222-3333-ffffff000026",
   "metadata": {
    "name": "EDA",
    "resultHeight": 47
   },
   "source": [
    "#### Exploratory Data Analysis"
   ]
  },
  {
   "cell_type": "code",
   "execution_count": 27,
   "id": "ce110000-1111-2222-3333-ffffff000028",
   "metadata": {
    "collapsed": false,
    "language": "python",
    "name": "Area_plot",
    "resultHeight": 83,
    "tags": []
   },
   "outputs": [
    {
     "data": {
      "image/png": "[encoded data removed]",
      "text/plain": [
       "<Figure size 640x480 with 1 Axes>"
      ]
     },
     "metadata": {},
     "output_type": "display_data"
    },
    {
     "data": {
      "image/png": "[encoded data removed]",
      "text/plain": [
       "<Figure size 600x600 with 1 Axes>"
      ]
     },
     "metadata": {},
     "output_type": "display_data"
    }
   ],
   "source": [
    "temp=train\n",
    "testtemp=temp\n",
    "temp.index = pd.to_datetime(temp.index)\n",
    "sns.lineplot(data=temp)\n",
    "plt.show()\n",
    "\n",
    "#Area plot of all columns over time\n",
    "temp=temp.drop(labels=['MEASURE_TS'],axis=1)\n",
    "temp=temp.drop(labels=['OPERATOR_ID'],axis=1)\n",
    "temp.plot.area(figsize=(6, 6))\n",
    "plt.show()"
   ]
  },
  {
   "cell_type": "code",
   "execution_count": 31,
   "id": "ce110000-1111-2222-3333-ffffff000032",
   "metadata": {
    "collapsed": false,
    "language": "python",
    "name": "Normalize_Data",
    "resultHeight": 329,
    "tags": []
   },
   "outputs": [
    {
     "data": {
      "text/plain": [
       "['scaler_data']"
      ]
     },
     "execution_count": 31,
     "metadata": {},
     "output_type": "execute_result"
    }
   ],
   "source": [
    "from sklearn.preprocessing import MinMaxScaler\n",
    "import joblib\n",
    "import pandas as pd\n",
    "traintemp=train\n",
    "testtemp=test\n",
    "# Ensure MEASURE_TS is a column, and reset the index for both train and test DataFrames\n",
    "train_numeric = traintemp.reset_index(drop=True)\n",
    "test_numeric = testtemp.reset_index(drop=True)\n",
    "\n",
    "# Drop non-numeric columns like MEASURE_TS from train_numeric and test_numeric\n",
    "train_numeric = train_numeric.drop(columns=['MEASURE_TS'], errors='ignore')  # Ignore if 'MEASURE_TS' does not exist in DataFrame\n",
    "test_numeric = test_numeric.drop(columns=['MEASURE_TS'], errors='ignore')\n",
    "\n",
    "# Ensure that both DataFrames only contain numeric columns\n",
    "train_numeric = train_numeric.select_dtypes(include=['float64', 'int64'])\n",
    "test_numeric = test_numeric.select_dtypes(include=['float64', 'int64'])\n",
    "\n",
    "# Check if there are only numeric columns\n",
    "assert train_numeric.select_dtypes(include='number').shape[1] == train_numeric.shape[1], \"Non-numeric columns found in train_numeric!\"\n",
    "assert test_numeric.select_dtypes(include='number').shape[1] == test_numeric.shape[1], \"Non-numeric columns found in test_numeric!\"\n",
    "\n",
    "# Normalize only numeric data\n",
    "scaler = MinMaxScaler()\n",
    "X_train_scaled = scaler.fit_transform(train_numeric)\n",
    "X_test_scaled = scaler.transform(test_numeric)\n",
    "\n",
    "# Save the scaler for future use\n",
    "scaler_filename = \"scaler_data\"\n",
    "joblib.dump(scaler, scaler_filename)\n",
    "\n",
    "# Convert the scaled data back to DataFrame and reattach MEASURE_TS\n",
    "X_train = pd.DataFrame(X_train_scaled, columns=train_numeric.columns)\n",
    "X_test = pd.DataFrame(X_test_scaled, columns=test_numeric.columns)\n",
    "\n",
    "print(\"X_train:\")\n",
    "print(X_train.head())\n",
    "\n",
    "print(\"\\nX_test:\")\n",
    "print(X_test.head())\n"
   ]
  },
  {
   "cell_type": "code",
   "execution_count": 33,
   "id": "ce110000-1111-2222-3333-ffffff000034",
   "metadata": {
    "collapsed": false,
    "language": "python",
    "name": "train_test_data",
    "resultHeight": 60,
    "tags": []
   },
   "outputs": [
    {
     "name": "stdout",
     "output_type": "stream",
     "text": [
      "Training data shape: (433, 1, 4)\n",
      "Test data shape: (121, 1, 4)\n"
     ]
    }
   ],
   "source": [
    "import numpy as np\n",
    "\n",
    "# Convert DataFrames to NumPy arrays before reshaping\n",
    "X_train_array = X_train.values\n",
    "X_test_array = X_test.values\n",
    "\n",
    "# Reshape the inputs for LSTM [samples, timesteps, features]\n",
    "X_train_array = X_train_array.reshape(X_train_array.shape[0], 1, X_train_array.shape[1])\n",
    "print(\"Training data shape:\", X_train_array.shape)\n",
    "\n",
    "X_test_array = X_test_array.reshape(X_test_array.shape[0], 1, X_test_array.shape[1])\n",
    "print(\"Test data shape:\", X_test_array.shape)\n"
   ]
  },
  {
   "attachments": {},
   "cell_type": "markdown",
   "id": "ce110000-1111-2222-3333-ffffff000035",
   "metadata": {
    "name": "Model_Building",
    "resultHeight": 60
   },
   "source": [
    "## Model Building & Deployment"
   ]
  },
  {
   "attachments": {},
   "cell_type": "markdown",
   "id": "ce110000-1111-2222-3333-ffffff000036",
   "metadata": {
    "name": "Model_Training",
    "resultHeight": 88
   },
   "source": [
    "#### MODEL TRAINING\n",
    "\n",
    "Stored Procedure to train the model using the training dataset"
   ]
  },
  {
   "cell_type": "code",
   "execution_count": 34,
   "id": "ce110000-1111-2222-3333-ffffff000037",
   "metadata": {
    "collapsed": false,
    "language": "python",
    "name": "lstm_model_training",
    "resultHeight": 0,
    "tags": []
   },
   "outputs": [],
   "source": [
    "\n",
    "from sklearn.metrics import mean_squared_error\n",
    "import snowflake.snowpark\n",
    "from snowflake.snowpark import functions as F\n",
    "from snowflake.snowpark.session import Session\n",
    "from snowflake.snowpark import version as v\n",
    "import snowflake.snowpark.types as T\n",
    "from snowflake.snowpark.window import Window\n",
    "\n",
    "#from sklearn.model_selection import train_test_split\n",
    "import joblib\n",
    "import os\n",
    "# Snowpark for Python\n",
    "from snowflake.snowpark.session import Session\n",
    "from snowflake.snowpark.types import IntegerType, StringType, StructType, FloatType, StructField, DateType, Variant\n",
    "from snowflake.snowpark.functions import udf, sum, col,array_construct,month,year,call_udf,lit\n",
    "from snowflake.snowpark.version import VERSION\n",
    "import random\n",
    "\n",
    "random.seed(392)\n",
    "\n",
    "def train_lstm_model(session: Session) -> Variant:\n",
    "    X_train = session.table(\"AE_TRAIN\")\n",
    "    X_train = X_train.to_pandas()\n",
    "    #X_train = X_train.drop(columns=[\"MEASURE_TS\"])\n",
    "    X_train = X_train.drop(columns=['MEASURE_TS', 'FACTORY_FLOOR','PRODUCTION_UNIT','SHIFT',\n",
    "                                   'OPERATOR_ID','MACHINE_STATUS'])\n",
    "    X_train = X_train.to_numpy()\n",
    "    X_train = X_train.reshape(X_train.shape[0], 1, X_train.shape[1])\n",
    "\n",
    "    #X_test = X_test.reshape(X_test.shape[0], 1, X_test.shape[1])\n",
    "\n",
    "\n",
    "    inputs = Input(shape=(X_train.shape[1], X_train.shape[2]))\n",
    "    #model with five LSTM layers\n",
    "    #L1 = LSTM(16, activation='relu', return_sequences=True,kernel_regularizer=regularizers.l2(0.00))(inputs)\n",
    "    #L2 = LSTM(4, activation='relu', return_sequences=False)(L1)\n",
    "    #L3 = RepeatVector(X_train.shape[1])(L2)\n",
    "    #L4 = LSTM(4, activation='relu', return_sequences=True)(L3)\n",
    "    #L5 = LSTM(16, activation='relu', return_sequences=True)(L4)\n",
    "    output = TimeDistributed(Dense(X_train.shape[2]))(inputs)    \n",
    "    model = Model(inputs=inputs, outputs=output)\n",
    "\n",
    "    optimizer=keras.optimizers.Adam(learning_rate=.001)\n",
    "    model.compile(optimizer=optimizer, loss='mae')\n",
    "\n",
    "    # fit the model to the data\n",
    "    nb_epochs = 100\n",
    "    batch_size = 10\n",
    "    history = model.fit(X_train, X_train, epochs=nb_epochs, batch_size=batch_size,\n",
    "                    validation_split=0.05).history\n",
    "    \n",
    "    from joblib import dump\n",
    "    model_path = \"/tmp/lstm_model.keras\"\n",
    "    model.save(model_path)\n",
    "    print(f\"Model saved to {model_path}.\")\n",
    "    return history\n",
    "\n"
   ]
  },
  {
   "cell_type": "code",
   "execution_count": 35,
   "id": "ce110000-1111-2222-3333-ffffff000038",
   "metadata": {
    "collapsed": false,
    "language": "python",
    "name": "prep_train_data",
    "resultHeight": 457,
    "tags": []
   },
   "outputs": [
    {
     "data": {
      "text/plain": [
       "array([[[0.060236, 0.074227, 0.083926, 0.044443]],\n",
       "\n",
       "       [[0.061455, 0.073844, 0.084457, 0.045081]],\n",
       "\n",
       "       [[0.061361, 0.075609, 0.082837, 0.045118]],\n",
       "\n",
       "       ...,\n",
       "\n",
       "       [[0.060959, 0.074498, 0.076289, 0.043229]],\n",
       "\n",
       "       [[0.060307, 0.073227, 0.075189, 0.04328 ]],\n",
       "\n",
       "       [[0.061289, 0.074106, 0.076946, 0.043786]]])"
      ]
     },
     "execution_count": 35,
     "metadata": {},
     "output_type": "execute_result"
    }
   ],
   "source": [
    "#Read the training data and reshape \n",
    "X_train = session.table(\"AE_TRAIN\")\n",
    "X_train = X_train.to_pandas()\n",
    "X_train = X_train.drop(columns=[\"MEASURE_TS\"])\n",
    "X_train = X_train.to_numpy()\n",
    "X_train = X_train.reshape(X_train.shape[0], 1, X_train.shape[1])\n",
    "X_train\n"
   ]
  },
  {
   "cell_type": "code",
   "execution_count": null,
   "id": "969ce07b-5c82-420c-8341-12cdf60f215e",
   "metadata": {
    "collapsed": false,
    "language": "python",
    "name": "train_model",
    "resultHeight": 4692
   },
   "outputs": [],
   "source": [
    "history = train_lstm_model(session)"
   ]
  },
  {
   "cell_type": "code",
   "execution_count": null,
   "id": "7f3cccb3-2848-4164-9a12-e2c52dc3bb3d",
   "metadata": {
    "collapsed": false,
    "language": "python",
    "name": "view_trained_model",
    "resultHeight": 133
   },
   "outputs": [],
   "source": [
    "!ls /tmp"
   ]
  },
  {
   "cell_type": "code",
   "execution_count": 38,
   "id": "ce110000-1111-2222-3333-ffffff000040",
   "metadata": {
    "collapsed": false,
    "language": "python",
    "name": "pandas_dataframe",
    "resultHeight": 0,
    "tags": []
   },
   "outputs": [],
   "source": [
    "history = pd.DataFrame(history)"
   ]
  },
  {
   "cell_type": "code",
   "execution_count": 39,
   "id": "ce110000-1111-2222-3333-ffffff000041",
   "metadata": {
    "collapsed": false,
    "language": "python",
    "name": "quick_Analysis",
    "resultHeight": 252,
    "tags": []
   },
   "outputs": [
    {
     "data": {
      "text/html": [
       "<div>\n",
       "<style scoped>\n",
       "    .dataframe tbody tr th:only-of-type {\n",
       "        vertical-align: middle;\n",
       "    }\n",
       "\n",
       "    .dataframe tbody tr th {\n",
       "        vertical-align: top;\n",
       "    }\n",
       "\n",
       "    .dataframe thead th {\n",
       "        text-align: right;\n",
       "    }\n",
       "</style>\n",
       "<table border=\"1\" class=\"dataframe\">\n",
       "  <thead>\n",
       "    <tr style=\"text-align: right;\">\n",
       "      <th></th>\n",
       "      <th>loss</th>\n",
       "      <th>val_loss</th>\n",
       "    </tr>\n",
       "  </thead>\n",
       "  <tbody>\n",
       "    <tr>\n",
       "      <th>0</th>\n",
       "      <td>0.041025</td>\n",
       "      <td>0.014689</td>\n",
       "    </tr>\n",
       "    <tr>\n",
       "      <th>1</th>\n",
       "      <td>0.004591</td>\n",
       "      <td>0.000762</td>\n",
       "    </tr>\n",
       "    <tr>\n",
       "      <th>2</th>\n",
       "      <td>0.000931</td>\n",
       "      <td>0.001327</td>\n",
       "    </tr>\n",
       "    <tr>\n",
       "      <th>3</th>\n",
       "      <td>0.000913</td>\n",
       "      <td>0.000824</td>\n",
       "    </tr>\n",
       "    <tr>\n",
       "      <th>4</th>\n",
       "      <td>0.000953</td>\n",
       "      <td>0.000682</td>\n",
       "    </tr>\n",
       "  </tbody>\n",
       "</table>\n",
       "</div>"
      ],
      "text/plain": [
       "       loss  val_loss\n",
       "0  0.041025  0.014689\n",
       "1  0.004591  0.000762\n",
       "2  0.000931  0.001327\n",
       "3  0.000913  0.000824\n",
       "4  0.000953  0.000682"
      ]
     },
     "execution_count": 39,
     "metadata": {},
     "output_type": "execute_result"
    }
   ],
   "source": [
    "history.head()"
   ]
  },
  {
   "cell_type": "code",
   "execution_count": 40,
   "id": "ce110000-1111-2222-3333-ffffff000042",
   "metadata": {
    "collapsed": false,
    "language": "python",
    "name": "history_table",
    "resultHeight": 439
   },
   "outputs": [
    {
     "data": {
      "text/plain": [
       "<snowflake.snowpark.table.Table at 0x7f9a822187f0>"
      ]
     },
     "execution_count": 40,
     "metadata": {},
     "output_type": "execute_result"
    }
   ],
   "source": [
    "#Write the loss to a history table and keep track of model loss\n",
    "session.sql(\"DROP table IF EXISTS AD_HISTORY\").collect()\n",
    "session.write_pandas(history,'AD_HISTORY',auto_create_table=True, overwrite=True)"
   ]
  },
  {
   "cell_type": "code",
   "execution_count": null,
   "id": "96f03f76-286b-435e-a05c-3eaa84847fc7",
   "metadata": {
    "collapsed": false,
    "language": "python",
    "name": "load_model",
    "resultHeight": 38
   },
   "outputs": [],
   "source": [
    "#Test local\n",
    "model_path = \"/tmp/lstm_model.keras\"\n",
    "model = keras.models.load_model(model_path)\n",
    "print(f\"Model loaded successfully\")"
   ]
  },
  {
   "cell_type": "code",
   "execution_count": 43,
   "id": "ce110000-1111-2222-3333-ffffff000045",
   "metadata": {
    "collapsed": false,
    "language": "python",
    "name": "view_model_loss",
    "resultHeight": 701
   },
   "outputs": [
    {
     "data": {
      "image/png": "[encoded data removed]",
      "text/plain": [
       "<Figure size 1120x480 with 1 Axes>"
      ]
     },
     "metadata": {},
     "output_type": "display_data"
    }
   ],
   "source": [
    "# plot the training losses\n",
    "fig, ax = plt.subplots(figsize=(14, 6), dpi=80)\n",
    "ax.plot(history['loss'], 'b', label='Train', linewidth=2)\n",
    "ax.plot(history['val_loss'], 'r', label='Validation', linewidth=2)\n",
    "ax.set_title('Model loss', fontsize=16)\n",
    "ax.set_ylabel('Loss (mae)')\n",
    "ax.set_xlabel('Epoch')\n",
    "ax.legend(loc='upper right')\n",
    "plt.show()"
   ]
  },
  {
   "cell_type": "code",
   "execution_count": null,
   "id": "a22dfa30-dbfc-417c-aa30-be809c02e14b",
   "metadata": {
    "collapsed": false,
    "language": "python",
    "name": "training_Data",
    "resultHeight": 0
   },
   "outputs": [],
   "source": [
    "train_data = session.table(\"AE_TRAIN\").limit(1).to_pandas()\n",
    "train_data = train_data.set_index(\"MEASURE_TS\")"
   ]
  },
  {
   "cell_type": "code",
   "execution_count": null,
   "id": "5645d16b-166c-4b66-a1bb-9c610231416c",
   "metadata": {
    "collapsed": false,
    "language": "python",
    "name": "train_data_prep",
    "resultHeight": 0
   },
   "outputs": [],
   "source": [
    "train_data = train_data.drop(columns=['FACTORY_FLOOR','PRODUCTION_UNIT','SHIFT',\n",
    "                                   'OPERATOR_ID','MACHINE_STATUS'])"
   ]
  },
  {
   "cell_type": "code",
   "execution_count": null,
   "id": "ecec3777-a95b-4965-afea-7bc26d80de65",
   "metadata": {
    "collapsed": false,
    "language": "python",
    "name": "view_dataset_train_Data",
    "resultHeight": 112
   },
   "outputs": [],
   "source": [
    "train_data"
   ]
  },
  {
   "cell_type": "code",
   "execution_count": null,
   "id": "c65aac0a-3911-48a6-adfd-438ea75e7703",
   "metadata": {
    "codeCollapsed": false,
    "collapsed": false,
    "language": "python",
    "name": "custom_model_class",
    "resultHeight": 0
   },
   "outputs": [],
   "source": "from snowflake.ml.model import custom_model\nimport numpy as np\nimport pandas as pd\nimport tensorflow as tf\n\nclass AnomalyDetectionModel(custom_model.CustomModel):\n    def __init__(self, context: custom_model.ModelContext) -> None:\n        super().__init__(context)\n\n    @custom_model.inference_api\n    def predict(self, train_data: pd.DataFrame) -> pd.DataFrame:\n        cols = train_data.columns\n        scaler = MinMaxScaler()\n\n        # Convert to numpy array and ensure float32 dtype\n        X_train_pd = train_data.to_numpy().astype(np.float32)\n\n        # Reshape the data\n        X = X_train_pd.reshape(X_train_pd.shape[0], 1, X_train_pd.shape[1])\n\n        # Convert to tensorflow tensor\n        X = tf.convert_to_tensor(X, dtype=tf.float32)\n\n        # Make prediction\n        X_pred = self.context.model_ref('lstm').predict(X)\n        X_pred = X_pred.reshape(X_pred.shape[0], X_pred.shape[2])\n\n        # Calculate scores\n        scored = np.abs(X_pred - X_train_pd)\n\n        return pd.DataFrame(scored, columns=[f\"feature_{i}\" for i in range(scored.shape[1])])\n\nad = AnomalyDetectionModel(\n    context=custom_model.ModelContext(models={'lstm': model})\n)"
  },
  {
   "cell_type": "code",
   "execution_count": null,
   "id": "66100053-ea79-4f67-968a-edf62424a227",
   "metadata": {
    "collapsed": false,
    "language": "python",
    "name": "Model_class",
    "resultHeight": 215
   },
   "outputs": [],
   "source": [
    "AnomalyDetectionModel"
   ]
  },
  {
   "cell_type": "code",
   "execution_count": null,
   "id": "71a1d200-bc2d-4074-941f-8269afb9d387",
   "metadata": {
    "codeCollapsed": false,
    "collapsed": false,
    "language": "python",
    "name": "registry",
    "resultHeight": 820
   },
   "outputs": [],
   "source": "# Log model to registry\nml_reg = Registry(session=session)\n\nmv = ml_reg.log_model(\n    ad,\n    model_name=\"ANOMALYDETECTION_MODEL_1\",\n    version_name='v3',\n    sample_input_data=train_data,\n    conda_dependencies=[\"scikit-learn\",\"keras==2.9\",\"tensorflow==2.9\"],\n    options={\"relax_version\": True,\n        \"embed_local_ml_library\": True\n    }\n)"
  },
  {
   "attachments": {},
   "cell_type": "markdown",
   "id": "ce110000-1111-2222-3333-ffffff000049",
   "metadata": {
    "collapsed": false,
    "name": "get_model",
    "resultHeight": 41
   },
   "source": [
    "Get the logged model from Model Registry"
   ]
  },
  {
   "cell_type": "code",
   "execution_count": null,
   "id": "68acc102-dc65-4fc1-8888-8b51e5e3ddab",
   "metadata": {
    "collapsed": false,
    "language": "python",
    "name": "show_models_fromregistry",
    "resultHeight": 112
   },
   "outputs": [],
   "source": [
    "# Usage Example\n",
    "reg = Registry(session=session) \n",
    "model_ref = reg.show_models()\n",
    "\n",
    "model_ref"
   ]
  },
  {
   "cell_type": "code",
   "execution_count": null,
   "id": "01396875-682e-44e1-8241-8957a272171e",
   "metadata": {
    "collapsed": false,
    "language": "python",
    "name": "Anomaly_Detection_model",
    "resultHeight": 469
   },
   "outputs": [],
   "source": "m = reg.get_model(\"ANOMALYDETECTION_MODEL_1\")\nmv = m.version(\"v3\")"
  },
  {
   "cell_type": "code",
   "execution_count": null,
   "id": "62d4a770-bcbd-4477-a8e8-3aa091382018",
   "metadata": {
    "collapsed": false,
    "language": "python",
    "name": "predict_on_test_Data",
    "resultHeight": 245
   },
   "outputs": [],
   "source": [
    "X_train_snowdf = session.table(\"AE_TRAIN\")\n",
    "#X_pred = X_train_snowdf.with_column('Loss_mae', predict_anomaly([F.col(c) for c in X_train_snowdf.columns])).to_pandas()\n",
    "X_pred = mv.run(X_train_snowdf, function_name=\"predict\")"
   ]
  },
  {
   "cell_type": "code",
   "execution_count": null,
   "id": "8594c7f6-7ec6-40f1-9ed0-fb286ba7980a",
   "metadata": {
    "collapsed": false,
    "language": "python",
    "name": "Prediction_Result",
    "resultHeight": 245
   },
   "outputs": [],
   "source": [
    "X_pred"
   ]
  },
  {
   "attachments": {},
   "cell_type": "markdown",
   "id": "ce110000-1111-2222-3333-ffffff000051",
   "metadata": {
    "name": "Loss_function",
    "resultHeight": 47
   },
   "source": [
    "#### # Distribution of Loss Function"
   ]
  },
  {
   "cell_type": "code",
   "execution_count": 48,
   "id": "ce110000-1111-2222-3333-ffffff000052",
   "metadata": {
    "collapsed": false,
    "language": "python",
    "name": "rename_outputs",
    "resultHeight": 245
   },
   "outputs": [],
   "source": [
    "rename_mapping = {\n",
    "    \"feature_0\": \"TEMPERATURE_LOSS_MAE\",\n",
    "    \"feature_1\": \"VIBRATION_LOSS_MAE\",\n",
    "    \"feature_2\": \"MOTOR_RPM_LOSS_MAE\",\n",
    "    \"feature_3\": \"MOTOR_AMPS_LOSS_MAE\"\n",
    "}\n",
    "X_predpd= X_pred.to_pandas()\n",
    "X_predpd = X_predpd.rename(columns=rename_mapping)"
   ]
  },
  {
   "cell_type": "code",
   "execution_count": null,
   "id": "e0e48bc3-e1f7-4918-8f1e-9f5445f031dc",
   "metadata": {
    "collapsed": false,
    "language": "python",
    "name": "loss_mae",
    "resultHeight": 239
   },
   "outputs": [],
   "source": [
    "X_predpd"
   ]
  },
  {
   "attachments": {},
   "cell_type": "markdown",
   "id": "ce110000-1111-2222-3333-ffffff000055",
   "metadata": {
    "name": "calculate_lossmae",
    "resultHeight": 47
   },
   "source": [
    "#### CALCULATE LOSS MAE FOR EACH SENSOR AND PLOT IT"
   ]
  },
  {
   "attachments": {},
   "cell_type": "markdown",
   "id": "ce110000-1111-2222-3333-ffffff000057",
   "metadata": {
    "collapsed": false,
    "name": "individual_sensors",
    "resultHeight": 47
   },
   "source": [
    "#### Visualize individual Sensors Loss Distribution"
   ]
  },
  {
   "cell_type": "code",
   "execution_count": 52,
   "id": "ce110000-1111-2222-3333-ffffff000058",
   "metadata": {
    "collapsed": false,
    "language": "python",
    "name": "vibration_mae",
    "resultHeight": 239
   },
   "outputs": [
    {
     "data": {
      "text/plain": [
       "(0.0, 1.0)"
      ]
     },
     "execution_count": 52,
     "metadata": {},
     "output_type": "execute_result"
    },
    {
     "data": {
      "image/png": "[encoded data removed]",
      "text/plain": [
       "<Figure size 600x1200 with 1 Axes>"
      ]
     },
     "metadata": {},
     "output_type": "display_data"
    }
   ],
   "source": [
    "import matplotlib.pyplot as plt\n",
    "\n",
    "# Assuming `X_predpd` is your DataFrame\n",
    "plt.figure(figsize=(10, 6), dpi=100)  # Adjusted figure size for better proportions\n",
    "plt.title('Vibration Loss Distribution', fontsize=16)\n",
    "\n",
    "# Plot histogram with adjusted x-axis range and finer bins\n",
    "vibration_mae = X_predpd['VIBRATION_LOSS_MAE']\n",
    "plt.hist(vibration_mae, bins=50, color=\"blue\", edgecolor='black', alpha=0.7)\n",
    "\n",
    "# Dynamically set x-axis limits based on data\n",
    "plt.xlim([vibration_mae.min() - 0.0001, vibration_mae.max() + 0.0001])\n",
    "plt.xlabel('Vibration Loss MAE', fontsize=14)\n",
    "plt.ylabel('Frequency', fontsize=14)\n",
    "\n",
    "plt.grid(axis='y', alpha=0.75)  # Optional: Add grid lines for clarity\n",
    "plt.show()\n"
   ]
  },
  {
   "cell_type": "code",
   "execution_count": null,
   "id": "540b5100-81bb-46e2-8223-4fa3d0822ebc",
   "metadata": {
    "collapsed": false,
    "language": "python",
    "name": "TEMPERATURE_LOSS_MAE",
    "resultHeight": 239
   },
   "outputs": [],
   "source": [
    "\n",
    "\n",
    "# Assuming `X_predpd` is your DataFrame\n",
    "plt.figure(figsize=(10, 6), dpi=100)  # Adjusted figure size for better proportions\n",
    "plt.title('Temperature Loss Distribution', fontsize=16)\n",
    "\n",
    "# Plot histogram with adjusted x-axis range and finer bins\n",
    "vibration_mae = X_predpd['TEMPERATURE_LOSS_MAE']\n",
    "plt.hist(vibration_mae, bins=50, color=\"blue\", edgecolor='black', alpha=0.7)\n",
    "\n",
    "# Dynamically set x-axis limits based on data\n",
    "plt.xlim([vibration_mae.min() - 0.0001, vibration_mae.max() + 0.0001])\n",
    "plt.xlabel('Temperature Loss MAE', fontsize=14)\n",
    "plt.ylabel('Frequency', fontsize=14)\n",
    "\n",
    "plt.grid(axis='y', alpha=0.75)  # Optional: Add grid lines for clarity\n",
    "plt.show()\n"
   ]
  },
  {
   "cell_type": "code",
   "execution_count": 53,
   "id": "ce110000-1111-2222-3333-ffffff000059",
   "metadata": {
    "collapsed": false,
    "language": "python",
    "name": "MOTOR_RPM_LOSS_MAE",
    "resultHeight": 239
   },
   "outputs": [
    {
     "data": {
      "text/plain": [
       "(0.0, 1.0)"
      ]
     },
     "execution_count": 53,
     "metadata": {},
     "output_type": "execute_result"
    },
    {
     "data": {
      "image/png": "[encoded data removed]",
      "text/plain": [
       "<Figure size 600x540 with 1 Axes>"
      ]
     },
     "metadata": {},
     "output_type": "display_data"
    }
   ],
   "source": [
    "\n",
    "\n",
    "# Assuming `X_predpd` is your DataFrame\n",
    "plt.figure(figsize=(10, 6), dpi=100)  # Adjusted figure size for better proportions\n",
    "plt.title('MOTOR_RPM Loss Distribution', fontsize=16)\n",
    "\n",
    "# Plot histogram with adjusted x-axis range and finer bins\n",
    "vibration_mae = X_predpd['MOTOR_RPM_LOSS_MAE']\n",
    "plt.hist(vibration_mae, bins=50, color=\"blue\", edgecolor='black', alpha=0.7)\n",
    "\n",
    "# Dynamically set x-axis limits based on data\n",
    "plt.xlim([vibration_mae.min() - 0.0001, vibration_mae.max() + 0.0001])\n",
    "plt.xlabel('MOTOR_RPM Loss MAE', fontsize=14)\n",
    "plt.ylabel('Frequency', fontsize=14)\n",
    "\n",
    "plt.grid(axis='y', alpha=0.75)  # Optional: Add grid lines for clarity\n",
    "plt.show()\n"
   ]
  },
  {
   "cell_type": "code",
   "execution_count": 54,
   "id": "ce110000-1111-2222-3333-ffffff000060",
   "metadata": {
    "collapsed": false,
    "language": "python",
    "name": "MOTOR_AMPS_LOSS_MAE",
    "resultHeight": 41
   },
   "outputs": [
    {
     "data": {
      "text/plain": [
       "(0.0, 1.0)"
      ]
     },
     "execution_count": 54,
     "metadata": {},
     "output_type": "execute_result"
    },
    {
     "data": {
      "image/png": "[encoded data removed]",
      "text/plain": [
       "<Figure size 600x540 with 1 Axes>"
      ]
     },
     "metadata": {},
     "output_type": "display_data"
    }
   ],
   "source": [
    "\n",
    "\n",
    "# Assuming `X_predpd` is your DataFrame\n",
    "plt.figure(figsize=(10, 6), dpi=100)  # Adjusted figure size for better proportions\n",
    "plt.title('MOTOR_AMPS Loss Distribution', fontsize=16)\n",
    "\n",
    "# Plot histogram with adjusted x-axis range and finer bins\n",
    "vibration_mae = X_predpd['MOTOR_AMPS_LOSS_MAE']\n",
    "plt.hist(vibration_mae, bins=50, color=\"blue\", edgecolor='black', alpha=0.7)\n",
    "\n",
    "# Dynamically set x-axis limits based on data\n",
    "plt.xlim([vibration_mae.min() - 0.0001, vibration_mae.max() + 0.0001])\n",
    "plt.xlabel('MOTOR_AMPS Loss MAE', fontsize=14)\n",
    "plt.ylabel('Frequency', fontsize=14)\n",
    "\n",
    "plt.grid(axis='y', alpha=0.75)  # Optional: Add grid lines for clarity\n",
    "plt.show()\n"
   ]
  },
  {
   "cell_type": "code",
   "execution_count": 57,
   "id": "ce110000-1111-2222-3333-ffffff000062",
   "metadata": {
    "collapsed": false,
    "language": "python",
    "name": "view_collated_mae",
    "resultHeight": 41
   },
   "outputs": [
    {
     "data": {
      "text/plain": [
       "<snowflake.snowpark.table.Table at 0x7f9ab2156700>"
      ]
     },
     "execution_count": 57,
     "metadata": {},
     "output_type": "execute_result"
    }
   ],
   "source": [
    "import matplotlib.pyplot as plt\n",
    "import seaborn as sns\n",
    "X_predpd1=X_predpd.drop(columns=[\"MEASURE_TS\"])\n",
    "X_predpd1=X_predpd.drop(columns=['FACTORY_FLOOR','PRODUCTION_UNIT','SHIFT',\n",
    "                                   'OPERATOR_ID','MACHINE_STATUS'])\n",
    "\n",
    "# Set up the figure size and title\n",
    "plt.figure(figsize=(16, 9), dpi=80)\n",
    "plt.title('Loss Distribution', fontsize=16)\n",
    "\n",
    "# Plot KDE for each loss column\n",
    "sns.kdeplot(X_predpd1['VIBRATION_LOSS_MAE'], label='VIBRATION_LOSS_MAE', color='blue', fill=True, alpha=0.4)\n",
    "sns.kdeplot(X_predpd1['MOTOR_RPM_LOSS_MAE'], label='MOTOR_RPM_LOSS_MAE', color='red', fill=True, alpha=0.4)\n",
    "sns.kdeplot(X_predpd1['MOTOR_AMPS_LOSS_MAE'], label='MOTOR_AMPS_LOSS_MAE', color='yellow', fill=True, alpha=0.4)\n",
    "sns.kdeplot(X_predpd1['TEMPERATURE_LOSS_MAE'], label='TEMPERATURE_LOSS_MAE', color='green', fill=True, alpha=0.4)\n",
    "\n",
    "# Adjust x-axis limits dynamically to better fit small values\n",
    "\n",
    "plt.xlabel('Loss MAE', fontsize=14)\n",
    "plt.ylabel('Density', fontsize=14)\n",
    "plt.legend(title='Sensors', fontsize=12)\n",
    "\n",
    "# Add grid for better readability\n",
    "plt.grid(axis='y', linestyle='--', alpha=0.7)\n",
    "plt.show()\n"
   ]
  },
  {
   "cell_type": "code",
   "execution_count": 60,
   "id": "ce110000-1111-2222-3333-ffffff000065",
   "metadata": {
    "codeCollapsed": false,
    "collapsed": false,
    "language": "python",
    "name": "reconstruction_loss_threshold",
    "resultHeight": 134
   },
   "outputs": [
    {
     "name": "stdout",
     "output_type": "stream",
     "text": [
      "Reconstruction error threshold:  0.9561318010091782\n"
     ]
    }
   ],
   "source": [
    "# Get reconstruction loss threshold for each sensor.\n",
    "\n",
    "Threshold_TEMPERATURE= np.max(X_predpd['TEMPERATURE_LOSS_MAE'])\n",
    "print(\"Reconstruction error threshold: \", Threshold_TEMPERATURE)\n"
   ]
  },
  {
   "cell_type": "code",
   "execution_count": 61,
   "id": "ce110000-1111-2222-3333-ffffff000066",
   "metadata": {
    "language": "python",
    "name": "reconstruction_loss_threshold_vibration",
    "resultHeight": 38
   },
   "outputs": [
    {
     "name": "stdout",
     "output_type": "stream",
     "text": [
      "Reconstruction error threshold:  0.939365115016698\n"
     ]
    }
   ],
   "source": [
    "Threshold_VIBRATION= np.max(X_predpd['VIBRATION_LOSS_MAE'])\n",
    "print(\"Reconstruction error threshold: \", Threshold_VIBRATION)\n"
   ]
  },
  {
   "cell_type": "code",
   "execution_count": 62,
   "id": "ce110000-1111-2222-3333-ffffff000067",
   "metadata": {
    "language": "python",
    "name": "reconstruction_loss_threshold_motoramps",
    "resultHeight": 38
   },
   "outputs": [
    {
     "name": "stdout",
     "output_type": "stream",
     "text": [
      "Reconstruction error threshold:  0.920528523623943\n"
     ]
    }
   ],
   "source": [
    "Threshold_MOTOR_AMPS= np.max(X_predpd['MOTOR_AMPS_LOSS_MAE'])\n",
    "print(\"Reconstruction error threshold: \", Threshold_MOTOR_AMPS)\n"
   ]
  },
  {
   "cell_type": "code",
   "execution_count": 63,
   "id": "ce110000-1111-2222-3333-ffffff000068",
   "metadata": {
    "language": "python",
    "name": "reconstruction_loss_threshold_motor_rpm",
    "resultHeight": 38
   },
   "outputs": [
    {
     "name": "stdout",
     "output_type": "stream",
     "text": [
      "Reconstruction error threshold:  0.92542383819818\n"
     ]
    }
   ],
   "source": [
    "Threshold_MOTOR_RPM= np.max(X_predpd['MOTOR_RPM_LOSS_MAE'])\n",
    "print(\"Reconstruction error threshold: \", Threshold_MOTOR_RPM)"
   ]
  },
  {
   "cell_type": "code",
   "execution_count": null,
   "id": "3a7685c5-a25d-43ae-b1d6-4a1abdb60acd",
   "metadata": {
    "language": "python",
    "name": "predict",
    "resultHeight": 0
   },
   "outputs": [],
   "source": [
    "X_test_snowdf = session.table(\"AE_TEST\")\n",
    "X_predTest = mv.run(X_test_snowdf, function_name=\"predict\")"
   ]
  },
  {
   "cell_type": "code",
   "execution_count": null,
   "id": "99aaaa10-4534-4047-af1b-628b8344a2d7",
   "metadata": {
    "language": "python",
    "name": "features_output_rename",
    "resultHeight": 0
   },
   "outputs": [],
   "source": [
    "rename_mapping = {\n",
    "    \"feature_0\": \"TEMPERATURE_LOSS_MAE\",\n",
    "    \"feature_1\": \"VIBRATION_LOSS_MAE\",\n",
    "    \"feature_2\": \"MOTOR_RPM_LOSS_MAE\",\n",
    "    \"feature_3\": \"MOTOR_AMPS_LOSS_MAE\"\n",
    "}\n",
    "X_predtestpd= X_predTest.to_pandas()\n",
    "X_predtestpd = X_predtestpd.rename(columns=rename_mapping)"
   ]
  },
  {
   "cell_type": "code",
   "execution_count": 65,
   "id": "ce110000-1111-2222-3333-ffffff000069",
   "metadata": {
    "collapsed": false,
    "language": "python",
    "name": "view_outputs_test",
    "resultHeight": 0
   },
   "outputs": [],
   "source": [
    "X_predtestpd"
   ]
  },
  {
   "cell_type": "code",
   "execution_count": 66,
   "id": "ce110000-1111-2222-3333-ffffff000070",
   "metadata": {
    "language": "python",
    "name": "Set_threshold",
    "resultHeight": 0
   },
   "outputs": [],
   "source": [
    "#Set the Threshold calculated for the test data \n",
    "X_predtestpd['Threshold_VIBRATION']= Threshold_VIBRATION\n",
    "X_predtestpd['Threshold_MOTOR_AMPS']= Threshold_MOTOR_AMPS\n",
    "X_predtestpd['Threshold_MOTOR_RPM']= Threshold_MOTOR_RPM\n",
    "X_predtestpd['Threshold_TEMPERATURE']= Threshold_TEMPERATURE\n"
   ]
  },
  {
   "attachments": {},
   "cell_type": "markdown",
   "id": "ce110000-1111-2222-3333-ffffff000072",
   "metadata": {
    "name": "detect_anomalies",
    "resultHeight": 60
   },
   "source": [
    "## Detect Anomalies"
   ]
  },
  {
   "cell_type": "code",
   "execution_count": 68,
   "id": "ce110000-1111-2222-3333-ffffff000073",
   "metadata": {
    "language": "python",
    "name": "Determine_anomalies",
    "resultHeight": 0
   },
   "outputs": [],
   "source": [
    "#Determine anomaly in each sensor\n",
    "X_predtestpd['Anomaly_in_vibration_sensor'] = X_predtestpd['VIBRATION_LOSS_MAE'] > X_predtestpd['Threshold_VIBRATION']\n",
    "X_predtestpd['Anomaly_in_temperature_sensor'] = X_predtestpd['TEMPERATURE_LOSS_MAE'] > X_predtestpd['Threshold_TEMPERATURE']\n",
    "X_predtestpd['Anomaly_in_motor_amps_sensor'] = X_predtestpd['MOTOR_AMPS_LOSS_MAE'] > X_predtestpd['Threshold_MOTOR_AMPS']\n",
    "X_predtestpd['Anomaly_in_motor_rpm_sensor'] = X_predtestpd['MOTOR_RPM_LOSS_MAE'] > X_predtestpd['Threshold_MOTOR_RPM']\n"
   ]
  },
  {
   "cell_type": "code",
   "execution_count": 69,
   "id": "ce110000-1111-2222-3333-ffffff000074",
   "metadata": {
    "collapsed": false,
    "language": "python",
    "name": "Determine_anomalies_all",
    "resultHeight": 0
   },
   "outputs": [],
   "source": [
    "#Combine anomalies across all sensors\n",
    "snow_pred_test_final = X_predtestpd[['Anomaly_in_vibration_sensor', 'Anomaly_in_temperature_sensor', 'Anomaly_in_motor_amps_sensor','Anomaly_in_motor_rpm_sensor']].head()"
   ]
  },
  {
   "cell_type": "code",
   "execution_count": 73,
   "id": "ce110000-1111-2222-3333-ffffff000077",
   "metadata": {
    "collapsed": false,
    "language": "python",
    "name": "Threshold_calculation",
    "resultHeight": 0
   },
   "outputs": [],
   "source": [
    "#Set the Threshold calculated for the training data \n",
    "X_predpd['Threshold_VIBRATION']= Threshold_VIBRATION\n",
    "X_predpd['Threshold_MOTOR_AMPS']= Threshold_MOTOR_AMPS\n",
    "X_predpd['Threshold_MOTOR_RPM']= Threshold_MOTOR_RPM\n",
    "X_predpd['Threshold_TEMPERATURE']= Threshold_TEMPERATURE\n",
    "\n",
    "#Determine anomaly\n",
    "X_predpd['Anomaly_in_vibration_sensor'] = X_predpd['VIBRATION_LOSS_MAE'] > X_predpd['Threshold_VIBRATION']\n",
    "X_predpd['Anomaly_in_temperature_sensor'] = X_predpd['TEMPERATURE_LOSS_MAE'] > X_predpd['Threshold_TEMPERATURE']\n",
    "X_predpd['Anomaly_in_motor_amps_sensor'] = X_predpd['MOTOR_AMPS_LOSS_MAE'] > X_predpd['Threshold_MOTOR_AMPS']\n",
    "X_predpd['Anomaly_in_motor_rpm_sensor'] = X_predpd['MOTOR_RPM_LOSS_MAE'] > X_predpd['Threshold_MOTOR_RPM']\n",
    "\n",
    "\n"
   ]
  },
  {
   "cell_type": "code",
   "execution_count": 75,
   "id": "ce110000-1111-2222-3333-ffffff000079",
   "metadata": {
    "language": "python",
    "name": "test_Data_final",
    "resultHeight": 87
   },
   "outputs": [
    {
     "data": {
      "text/html": [
       "<div>\n",
       "<style scoped>\n",
       "    .dataframe tbody tr th:only-of-type {\n",
       "        vertical-align: middle;\n",
       "    }\n",
       "\n",
       "    .dataframe tbody tr th {\n",
       "        vertical-align: top;\n",
       "    }\n",
       "\n",
       "    .dataframe thead th {\n",
       "        text-align: right;\n",
       "    }\n",
       "</style>\n",
       "<table border=\"1\" class=\"dataframe\">\n",
       "  <thead>\n",
       "    <tr style=\"text-align: right;\">\n",
       "      <th></th>\n",
       "      <th>MEASURE_TS</th>\n",
       "      <th>Threshold_VIBRATION</th>\n",
       "      <th>Threshold_MOTOR_AMPS</th>\n",
       "      <th>Threshold_MOTOR_RPM</th>\n",
       "      <th>Threshold_TEMPERATURE</th>\n",
       "      <th>VIBRATION_LOSS_MAE</th>\n",
       "      <th>MOTOR_RPM_LOSS_MAE</th>\n",
       "      <th>MOTOR_AMPS_LOSS_MAE</th>\n",
       "      <th>TEMPERATURE_LOSS_MAE</th>\n",
       "      <th>Anomaly_in_vibration_sensor</th>\n",
       "      <th>Anomaly_in_temperature_sensor</th>\n",
       "      <th>Anomaly_in_motor_amps_sensor</th>\n",
       "      <th>Anomaly_in_motor_rpm_sensor</th>\n",
       "    </tr>\n",
       "  </thead>\n",
       "  <tbody>\n",
       "    <tr>\n",
       "      <th>0</th>\n",
       "      <td>2023-02-15 12:52:39</td>\n",
       "      <td>0.939365</td>\n",
       "      <td>0.920529</td>\n",
       "      <td>0.925424</td>\n",
       "      <td>0.956132</td>\n",
       "      <td>0.131665</td>\n",
       "      <td>0.925426</td>\n",
       "      <td>0.377807</td>\n",
       "      <td>0.654359</td>\n",
       "      <td>False</td>\n",
       "      <td>False</td>\n",
       "      <td>False</td>\n",
       "      <td>True</td>\n",
       "    </tr>\n",
       "    <tr>\n",
       "      <th>1</th>\n",
       "      <td>2023-02-15 13:02:39</td>\n",
       "      <td>0.939365</td>\n",
       "      <td>0.920529</td>\n",
       "      <td>0.925424</td>\n",
       "      <td>0.956132</td>\n",
       "      <td>0.060586</td>\n",
       "      <td>0.114354</td>\n",
       "      <td>0.079265</td>\n",
       "      <td>0.221558</td>\n",
       "      <td>False</td>\n",
       "      <td>False</td>\n",
       "      <td>False</td>\n",
       "      <td>False</td>\n",
       "    </tr>\n",
       "    <tr>\n",
       "      <th>2</th>\n",
       "      <td>2023-02-15 13:12:39</td>\n",
       "      <td>0.939365</td>\n",
       "      <td>0.920529</td>\n",
       "      <td>0.925424</td>\n",
       "      <td>0.956132</td>\n",
       "      <td>0.048953</td>\n",
       "      <td>0.074490</td>\n",
       "      <td>0.457609</td>\n",
       "      <td>0.043867</td>\n",
       "      <td>False</td>\n",
       "      <td>False</td>\n",
       "      <td>False</td>\n",
       "      <td>False</td>\n",
       "    </tr>\n",
       "    <tr>\n",
       "      <th>3</th>\n",
       "      <td>2023-02-15 13:22:39</td>\n",
       "      <td>0.939365</td>\n",
       "      <td>0.920529</td>\n",
       "      <td>0.925424</td>\n",
       "      <td>0.956132</td>\n",
       "      <td>0.939273</td>\n",
       "      <td>0.648620</td>\n",
       "      <td>0.920407</td>\n",
       "      <td>0.956110</td>\n",
       "      <td>False</td>\n",
       "      <td>False</td>\n",
       "      <td>False</td>\n",
       "      <td>False</td>\n",
       "    </tr>\n",
       "    <tr>\n",
       "      <th>4</th>\n",
       "      <td>2023-02-15 13:32:39</td>\n",
       "      <td>0.939365</td>\n",
       "      <td>0.920529</td>\n",
       "      <td>0.925424</td>\n",
       "      <td>0.956132</td>\n",
       "      <td>0.301859</td>\n",
       "      <td>0.925423</td>\n",
       "      <td>0.221213</td>\n",
       "      <td>0.956121</td>\n",
       "      <td>False</td>\n",
       "      <td>False</td>\n",
       "      <td>False</td>\n",
       "      <td>False</td>\n",
       "    </tr>\n",
       "  </tbody>\n",
       "</table>\n",
       "</div>"
      ],
      "text/plain": [
       "           MEASURE_TS  Threshold_VIBRATION  Threshold_MOTOR_AMPS  \\\n",
       "0 2023-02-15 12:52:39             0.939365              0.920529   \n",
       "1 2023-02-15 13:02:39             0.939365              0.920529   \n",
       "2 2023-02-15 13:12:39             0.939365              0.920529   \n",
       "3 2023-02-15 13:22:39             0.939365              0.920529   \n",
       "4 2023-02-15 13:32:39             0.939365              0.920529   \n",
       "\n",
       "   Threshold_MOTOR_RPM  Threshold_TEMPERATURE  VIBRATION_LOSS_MAE  \\\n",
       "0             0.925424               0.956132            0.131665   \n",
       "1             0.925424               0.956132            0.060586   \n",
       "2             0.925424               0.956132            0.048953   \n",
       "3             0.925424               0.956132            0.939273   \n",
       "4             0.925424               0.956132            0.301859   \n",
       "\n",
       "   MOTOR_RPM_LOSS_MAE  MOTOR_AMPS_LOSS_MAE  TEMPERATURE_LOSS_MAE  \\\n",
       "0            0.925426             0.377807              0.654359   \n",
       "1            0.114354             0.079265              0.221558   \n",
       "2            0.074490             0.457609              0.043867   \n",
       "3            0.648620             0.920407              0.956110   \n",
       "4            0.925423             0.221213              0.956121   \n",
       "\n",
       "   Anomaly_in_vibration_sensor  Anomaly_in_temperature_sensor  \\\n",
       "0                        False                          False   \n",
       "1                        False                          False   \n",
       "2                        False                          False   \n",
       "3                        False                          False   \n",
       "4                        False                          False   \n",
       "\n",
       "   Anomaly_in_motor_amps_sensor  Anomaly_in_motor_rpm_sensor  \n",
       "0                         False                         True  \n",
       "1                         False                        False  \n",
       "2                         False                        False  \n",
       "3                         False                        False  \n",
       "4                         False                        False  "
      ]
     },
     "execution_count": 75,
     "metadata": {},
     "output_type": "execute_result"
    }
   ],
   "source": [
    "X_predtestpd"
   ]
  },
  {
   "cell_type": "code",
   "execution_count": 76,
   "id": "ce110000-1111-2222-3333-ffffff000080",
   "metadata": {
    "language": "python",
    "name": "merge_train_test",
    "resultHeight": 87
   },
   "outputs": [
    {
     "data": {
      "text/html": [
       "<div>\n",
       "<style scoped>\n",
       "    .dataframe tbody tr th:only-of-type {\n",
       "        vertical-align: middle;\n",
       "    }\n",
       "\n",
       "    .dataframe tbody tr th {\n",
       "        vertical-align: top;\n",
       "    }\n",
       "\n",
       "    .dataframe thead th {\n",
       "        text-align: right;\n",
       "    }\n",
       "</style>\n",
       "<table border=\"1\" class=\"dataframe\">\n",
       "  <thead>\n",
       "    <tr style=\"text-align: right;\">\n",
       "      <th></th>\n",
       "      <th>MEASURE_TS</th>\n",
       "      <th>VIBRATION_LOSS_MAE</th>\n",
       "      <th>MOTOR_RPM_LOSS_MAE</th>\n",
       "      <th>MOTOR_AMPS_LOSS_MAE</th>\n",
       "      <th>TEMPERATURE_LOSS_MAE</th>\n",
       "      <th>Threshold_VIBRATION</th>\n",
       "      <th>Threshold_MOTOR_AMPS</th>\n",
       "      <th>Threshold_MOTOR_RPM</th>\n",
       "      <th>Threshold_TEMPERATURE</th>\n",
       "      <th>Anomaly_in_vibration_sensor</th>\n",
       "      <th>Anomaly_in_temperature_sensor</th>\n",
       "      <th>Anomaly_in_motor_amps_sensor</th>\n",
       "      <th>Anomaly_in_motor_rpm_sensor</th>\n",
       "    </tr>\n",
       "  </thead>\n",
       "  <tbody>\n",
       "    <tr>\n",
       "      <th>0</th>\n",
       "      <td>2023-02-12 10:52:39</td>\n",
       "      <td>0.939293</td>\n",
       "      <td>0.761301</td>\n",
       "      <td>0.696337</td>\n",
       "      <td>0.651154</td>\n",
       "      <td>0.939365</td>\n",
       "      <td>0.920529</td>\n",
       "      <td>0.925424</td>\n",
       "      <td>0.956132</td>\n",
       "      <td>False</td>\n",
       "      <td>False</td>\n",
       "      <td>False</td>\n",
       "      <td>False</td>\n",
       "    </tr>\n",
       "    <tr>\n",
       "      <th>1</th>\n",
       "      <td>2023-02-12 11:02:39</td>\n",
       "      <td>0.916920</td>\n",
       "      <td>0.925325</td>\n",
       "      <td>0.920379</td>\n",
       "      <td>0.765048</td>\n",
       "      <td>0.939365</td>\n",
       "      <td>0.920529</td>\n",
       "      <td>0.925424</td>\n",
       "      <td>0.956132</td>\n",
       "      <td>False</td>\n",
       "      <td>False</td>\n",
       "      <td>False</td>\n",
       "      <td>False</td>\n",
       "    </tr>\n",
       "    <tr>\n",
       "      <th>2</th>\n",
       "      <td>2023-02-12 11:12:39</td>\n",
       "      <td>0.284100</td>\n",
       "      <td>0.570945</td>\n",
       "      <td>0.276087</td>\n",
       "      <td>0.471132</td>\n",
       "      <td>0.939365</td>\n",
       "      <td>0.920529</td>\n",
       "      <td>0.925424</td>\n",
       "      <td>0.956132</td>\n",
       "      <td>False</td>\n",
       "      <td>False</td>\n",
       "      <td>False</td>\n",
       "      <td>False</td>\n",
       "    </tr>\n",
       "    <tr>\n",
       "      <th>3</th>\n",
       "      <td>2023-02-12 11:22:39</td>\n",
       "      <td>0.304986</td>\n",
       "      <td>0.856063</td>\n",
       "      <td>0.556761</td>\n",
       "      <td>0.532972</td>\n",
       "      <td>0.939365</td>\n",
       "      <td>0.920529</td>\n",
       "      <td>0.925424</td>\n",
       "      <td>0.956132</td>\n",
       "      <td>False</td>\n",
       "      <td>False</td>\n",
       "      <td>False</td>\n",
       "      <td>False</td>\n",
       "    </tr>\n",
       "    <tr>\n",
       "      <th>4</th>\n",
       "      <td>2023-02-12 11:32:39</td>\n",
       "      <td>0.353903</td>\n",
       "      <td>0.798540</td>\n",
       "      <td>0.659399</td>\n",
       "      <td>0.594207</td>\n",
       "      <td>0.939365</td>\n",
       "      <td>0.920529</td>\n",
       "      <td>0.925424</td>\n",
       "      <td>0.956132</td>\n",
       "      <td>False</td>\n",
       "      <td>False</td>\n",
       "      <td>False</td>\n",
       "      <td>False</td>\n",
       "    </tr>\n",
       "  </tbody>\n",
       "</table>\n",
       "</div>"
      ],
      "text/plain": [
       "           MEASURE_TS  VIBRATION_LOSS_MAE  MOTOR_RPM_LOSS_MAE  \\\n",
       "0 2023-02-12 10:52:39            0.939293            0.761301   \n",
       "1 2023-02-12 11:02:39            0.916920            0.925325   \n",
       "2 2023-02-12 11:12:39            0.284100            0.570945   \n",
       "3 2023-02-12 11:22:39            0.304986            0.856063   \n",
       "4 2023-02-12 11:32:39            0.353903            0.798540   \n",
       "\n",
       "   MOTOR_AMPS_LOSS_MAE  TEMPERATURE_LOSS_MAE  Threshold_VIBRATION  \\\n",
       "0             0.696337              0.651154             0.939365   \n",
       "1             0.920379              0.765048             0.939365   \n",
       "2             0.276087              0.471132             0.939365   \n",
       "3             0.556761              0.532972             0.939365   \n",
       "4             0.659399              0.594207             0.939365   \n",
       "\n",
       "   Threshold_MOTOR_AMPS  Threshold_MOTOR_RPM  Threshold_TEMPERATURE  \\\n",
       "0              0.920529             0.925424               0.956132   \n",
       "1              0.920529             0.925424               0.956132   \n",
       "2              0.920529             0.925424               0.956132   \n",
       "3              0.920529             0.925424               0.956132   \n",
       "4              0.920529             0.925424               0.956132   \n",
       "\n",
       "   Anomaly_in_vibration_sensor  Anomaly_in_temperature_sensor  \\\n",
       "0                        False                          False   \n",
       "1                        False                          False   \n",
       "2                        False                          False   \n",
       "3                        False                          False   \n",
       "4                        False                          False   \n",
       "\n",
       "   Anomaly_in_motor_amps_sensor  Anomaly_in_motor_rpm_sensor  \n",
       "0                         False                        False  \n",
       "1                         False                        False  \n",
       "2                         False                        False  \n",
       "3                         False                        False  \n",
       "4                         False                        False  "
      ]
     },
     "execution_count": 76,
     "metadata": {},
     "output_type": "execute_result"
    }
   ],
   "source": [
    "# Merge all data in a single dataframe for plotting\n",
    "scored = pd.concat([X_predpd, X_predtestpd])\n",
    "scored.head()"
   ]
  },
  {
   "cell_type": "code",
   "execution_count": 77,
   "id": "ce110000-1111-2222-3333-ffffff000081",
   "metadata": {
    "collapsed": false,
    "language": "python",
    "name": "annotate_anomaly",
    "resultHeight": 87
   },
   "outputs": [
    {
     "data": {
      "text/html": [
       "<div>\n",
       "<style scoped>\n",
       "    .dataframe tbody tr th:only-of-type {\n",
       "        vertical-align: middle;\n",
       "    }\n",
       "\n",
       "    .dataframe tbody tr th {\n",
       "        vertical-align: top;\n",
       "    }\n",
       "\n",
       "    .dataframe thead th {\n",
       "        text-align: right;\n",
       "    }\n",
       "</style>\n",
       "<table border=\"1\" class=\"dataframe\">\n",
       "  <thead>\n",
       "    <tr style=\"text-align: right;\">\n",
       "      <th></th>\n",
       "      <th>MEASURE_TS</th>\n",
       "      <th>VIBRATION_LOSS_MAE</th>\n",
       "      <th>MOTOR_RPM_LOSS_MAE</th>\n",
       "      <th>MOTOR_AMPS_LOSS_MAE</th>\n",
       "      <th>TEMPERATURE_LOSS_MAE</th>\n",
       "      <th>Threshold_VIBRATION</th>\n",
       "      <th>Threshold_MOTOR_AMPS</th>\n",
       "      <th>Threshold_MOTOR_RPM</th>\n",
       "      <th>Threshold_TEMPERATURE</th>\n",
       "      <th>Anomaly_in_vibration_sensor</th>\n",
       "      <th>Anomaly_in_temperature_sensor</th>\n",
       "      <th>Anomaly_in_motor_amps_sensor</th>\n",
       "      <th>Anomaly_in_motor_rpm_sensor</th>\n",
       "      <th>Anomaly</th>\n",
       "    </tr>\n",
       "  </thead>\n",
       "  <tbody>\n",
       "    <tr>\n",
       "      <th>0</th>\n",
       "      <td>2023-02-12 10:52:39</td>\n",
       "      <td>0.939293</td>\n",
       "      <td>0.761301</td>\n",
       "      <td>0.696337</td>\n",
       "      <td>0.651154</td>\n",
       "      <td>0.939365</td>\n",
       "      <td>0.920529</td>\n",
       "      <td>0.925424</td>\n",
       "      <td>0.956132</td>\n",
       "      <td>False</td>\n",
       "      <td>False</td>\n",
       "      <td>False</td>\n",
       "      <td>False</td>\n",
       "      <td>False</td>\n",
       "    </tr>\n",
       "    <tr>\n",
       "      <th>1</th>\n",
       "      <td>2023-02-12 11:02:39</td>\n",
       "      <td>0.916920</td>\n",
       "      <td>0.925325</td>\n",
       "      <td>0.920379</td>\n",
       "      <td>0.765048</td>\n",
       "      <td>0.939365</td>\n",
       "      <td>0.920529</td>\n",
       "      <td>0.925424</td>\n",
       "      <td>0.956132</td>\n",
       "      <td>False</td>\n",
       "      <td>False</td>\n",
       "      <td>False</td>\n",
       "      <td>False</td>\n",
       "      <td>False</td>\n",
       "    </tr>\n",
       "    <tr>\n",
       "      <th>2</th>\n",
       "      <td>2023-02-12 11:12:39</td>\n",
       "      <td>0.284100</td>\n",
       "      <td>0.570945</td>\n",
       "      <td>0.276087</td>\n",
       "      <td>0.471132</td>\n",
       "      <td>0.939365</td>\n",
       "      <td>0.920529</td>\n",
       "      <td>0.925424</td>\n",
       "      <td>0.956132</td>\n",
       "      <td>False</td>\n",
       "      <td>False</td>\n",
       "      <td>False</td>\n",
       "      <td>False</td>\n",
       "      <td>False</td>\n",
       "    </tr>\n",
       "    <tr>\n",
       "      <th>3</th>\n",
       "      <td>2023-02-12 11:22:39</td>\n",
       "      <td>0.304986</td>\n",
       "      <td>0.856063</td>\n",
       "      <td>0.556761</td>\n",
       "      <td>0.532972</td>\n",
       "      <td>0.939365</td>\n",
       "      <td>0.920529</td>\n",
       "      <td>0.925424</td>\n",
       "      <td>0.956132</td>\n",
       "      <td>False</td>\n",
       "      <td>False</td>\n",
       "      <td>False</td>\n",
       "      <td>False</td>\n",
       "      <td>False</td>\n",
       "    </tr>\n",
       "    <tr>\n",
       "      <th>4</th>\n",
       "      <td>2023-02-12 11:32:39</td>\n",
       "      <td>0.353903</td>\n",
       "      <td>0.798540</td>\n",
       "      <td>0.659399</td>\n",
       "      <td>0.594207</td>\n",
       "      <td>0.939365</td>\n",
       "      <td>0.920529</td>\n",
       "      <td>0.925424</td>\n",
       "      <td>0.956132</td>\n",
       "      <td>False</td>\n",
       "      <td>False</td>\n",
       "      <td>False</td>\n",
       "      <td>False</td>\n",
       "      <td>False</td>\n",
       "    </tr>\n",
       "    <tr>\n",
       "      <th>...</th>\n",
       "      <td>...</td>\n",
       "      <td>...</td>\n",
       "      <td>...</td>\n",
       "      <td>...</td>\n",
       "      <td>...</td>\n",
       "      <td>...</td>\n",
       "      <td>...</td>\n",
       "      <td>...</td>\n",
       "      <td>...</td>\n",
       "      <td>...</td>\n",
       "      <td>...</td>\n",
       "      <td>...</td>\n",
       "      <td>...</td>\n",
       "      <td>...</td>\n",
       "    </tr>\n",
       "    <tr>\n",
       "      <th>116</th>\n",
       "      <td>2023-02-16 08:12:39</td>\n",
       "      <td>0.939256</td>\n",
       "      <td>0.925317</td>\n",
       "      <td>0.920367</td>\n",
       "      <td>0.956107</td>\n",
       "      <td>0.939365</td>\n",
       "      <td>0.920529</td>\n",
       "      <td>0.925424</td>\n",
       "      <td>0.956132</td>\n",
       "      <td>False</td>\n",
       "      <td>False</td>\n",
       "      <td>False</td>\n",
       "      <td>False</td>\n",
       "      <td>False</td>\n",
       "    </tr>\n",
       "    <tr>\n",
       "      <th>117</th>\n",
       "      <td>2023-02-16 08:22:39</td>\n",
       "      <td>0.060580</td>\n",
       "      <td>0.173083</td>\n",
       "      <td>0.079251</td>\n",
       "      <td>0.073225</td>\n",
       "      <td>0.939365</td>\n",
       "      <td>0.920529</td>\n",
       "      <td>0.925424</td>\n",
       "      <td>0.956132</td>\n",
       "      <td>False</td>\n",
       "      <td>False</td>\n",
       "      <td>False</td>\n",
       "      <td>False</td>\n",
       "      <td>False</td>\n",
       "    </tr>\n",
       "    <tr>\n",
       "      <th>118</th>\n",
       "      <td>2023-02-16 08:32:39</td>\n",
       "      <td>0.047465</td>\n",
       "      <td>0.925394</td>\n",
       "      <td>0.786056</td>\n",
       "      <td>0.023864</td>\n",
       "      <td>0.939365</td>\n",
       "      <td>0.920529</td>\n",
       "      <td>0.925424</td>\n",
       "      <td>0.956132</td>\n",
       "      <td>False</td>\n",
       "      <td>False</td>\n",
       "      <td>False</td>\n",
       "      <td>False</td>\n",
       "      <td>False</td>\n",
       "    </tr>\n",
       "    <tr>\n",
       "      <th>119</th>\n",
       "      <td>2023-02-16 08:42:39</td>\n",
       "      <td>0.087349</td>\n",
       "      <td>0.017148</td>\n",
       "      <td>0.920546</td>\n",
       "      <td>0.043877</td>\n",
       "      <td>0.939365</td>\n",
       "      <td>0.920529</td>\n",
       "      <td>0.925424</td>\n",
       "      <td>0.956132</td>\n",
       "      <td>False</td>\n",
       "      <td>False</td>\n",
       "      <td>True</td>\n",
       "      <td>False</td>\n",
       "      <td>True</td>\n",
       "    </tr>\n",
       "    <tr>\n",
       "      <th>120</th>\n",
       "      <td>2023-02-16 08:52:39</td>\n",
       "      <td>0.939337</td>\n",
       "      <td>0.074558</td>\n",
       "      <td>0.579754</td>\n",
       "      <td>0.956124</td>\n",
       "      <td>0.939365</td>\n",
       "      <td>0.920529</td>\n",
       "      <td>0.925424</td>\n",
       "      <td>0.956132</td>\n",
       "      <td>False</td>\n",
       "      <td>False</td>\n",
       "      <td>False</td>\n",
       "      <td>False</td>\n",
       "      <td>False</td>\n",
       "    </tr>\n",
       "  </tbody>\n",
       "</table>\n",
       "<p>554 rows × 14 columns</p>\n",
       "</div>"
      ],
      "text/plain": [
       "             MEASURE_TS  VIBRATION_LOSS_MAE  MOTOR_RPM_LOSS_MAE  \\\n",
       "0   2023-02-12 10:52:39            0.939293            0.761301   \n",
       "1   2023-02-12 11:02:39            0.916920            0.925325   \n",
       "2   2023-02-12 11:12:39            0.284100            0.570945   \n",
       "3   2023-02-12 11:22:39            0.304986            0.856063   \n",
       "4   2023-02-12 11:32:39            0.353903            0.798540   \n",
       "..                  ...                 ...                 ...   \n",
       "116 2023-02-16 08:12:39            0.939256            0.925317   \n",
       "117 2023-02-16 08:22:39            0.060580            0.173083   \n",
       "118 2023-02-16 08:32:39            0.047465            0.925394   \n",
       "119 2023-02-16 08:42:39            0.087349            0.017148   \n",
       "120 2023-02-16 08:52:39            0.939337            0.074558   \n",
       "\n",
       "     MOTOR_AMPS_LOSS_MAE  TEMPERATURE_LOSS_MAE  Threshold_VIBRATION  \\\n",
       "0               0.696337              0.651154             0.939365   \n",
       "1               0.920379              0.765048             0.939365   \n",
       "2               0.276087              0.471132             0.939365   \n",
       "3               0.556761              0.532972             0.939365   \n",
       "4               0.659399              0.594207             0.939365   \n",
       "..                   ...                   ...                  ...   \n",
       "116             0.920367              0.956107             0.939365   \n",
       "117             0.079251              0.073225             0.939365   \n",
       "118             0.786056              0.023864             0.939365   \n",
       "119             0.920546              0.043877             0.939365   \n",
       "120             0.579754              0.956124             0.939365   \n",
       "\n",
       "     Threshold_MOTOR_AMPS  Threshold_MOTOR_RPM  Threshold_TEMPERATURE  \\\n",
       "0                0.920529             0.925424               0.956132   \n",
       "1                0.920529             0.925424               0.956132   \n",
       "2                0.920529             0.925424               0.956132   \n",
       "3                0.920529             0.925424               0.956132   \n",
       "4                0.920529             0.925424               0.956132   \n",
       "..                    ...                  ...                    ...   \n",
       "116              0.920529             0.925424               0.956132   \n",
       "117              0.920529             0.925424               0.956132   \n",
       "118              0.920529             0.925424               0.956132   \n",
       "119              0.920529             0.925424               0.956132   \n",
       "120              0.920529             0.925424               0.956132   \n",
       "\n",
       "     Anomaly_in_vibration_sensor  Anomaly_in_temperature_sensor  \\\n",
       "0                          False                          False   \n",
       "1                          False                          False   \n",
       "2                          False                          False   \n",
       "3                          False                          False   \n",
       "4                          False                          False   \n",
       "..                           ...                            ...   \n",
       "116                        False                          False   \n",
       "117                        False                          False   \n",
       "118                        False                          False   \n",
       "119                        False                          False   \n",
       "120                        False                          False   \n",
       "\n",
       "     Anomaly_in_motor_amps_sensor  Anomaly_in_motor_rpm_sensor  Anomaly  \n",
       "0                           False                        False    False  \n",
       "1                           False                        False    False  \n",
       "2                           False                        False    False  \n",
       "3                           False                        False    False  \n",
       "4                           False                        False    False  \n",
       "..                            ...                          ...      ...  \n",
       "116                         False                        False    False  \n",
       "117                         False                        False    False  \n",
       "118                         False                        False    False  \n",
       "119                          True                        False     True  \n",
       "120                         False                        False    False  \n",
       "\n",
       "[554 rows x 14 columns]"
      ]
     },
     "execution_count": 77,
     "metadata": {},
     "output_type": "execute_result"
    }
   ],
   "source": [
    "#Anomaly if found in even one sensor is marked\n",
    "anomaly_sensors = ['Anomaly_in_vibration_sensor', 'Anomaly_in_temperature_sensor','Anomaly_in_motor_amps_sensor','Anomaly_in_motor_rpm_sensor']\n",
    "scored['Anomaly_detected']=scored[anomaly_sensors].any(axis=1)\n",
    "scored"
   ]
  },
  {
   "cell_type": "code",
   "execution_count": 78,
   "id": "ce110000-1111-2222-3333-ffffff000082",
   "metadata": {
    "language": "python",
    "name": "scored_Data",
    "resultHeight": 87,
    "tags": []
   },
   "outputs": [
    {
     "data": {
      "text/html": [
       "<div>\n",
       "<style scoped>\n",
       "    .dataframe tbody tr th:only-of-type {\n",
       "        vertical-align: middle;\n",
       "    }\n",
       "\n",
       "    .dataframe tbody tr th {\n",
       "        vertical-align: top;\n",
       "    }\n",
       "\n",
       "    .dataframe thead th {\n",
       "        text-align: right;\n",
       "    }\n",
       "</style>\n",
       "<table border=\"1\" class=\"dataframe\">\n",
       "  <thead>\n",
       "    <tr style=\"text-align: right;\">\n",
       "      <th></th>\n",
       "      <th>MEASURE_TS</th>\n",
       "      <th>VIBRATION_LOSS_MAE</th>\n",
       "      <th>MOTOR_RPM_LOSS_MAE</th>\n",
       "      <th>MOTOR_AMPS_LOSS_MAE</th>\n",
       "      <th>TEMPERATURE_LOSS_MAE</th>\n",
       "      <th>Threshold_VIBRATION</th>\n",
       "      <th>Threshold_MOTOR_AMPS</th>\n",
       "      <th>Threshold_MOTOR_RPM</th>\n",
       "      <th>Threshold_TEMPERATURE</th>\n",
       "      <th>Anomaly_in_vibration_sensor</th>\n",
       "      <th>Anomaly_in_temperature_sensor</th>\n",
       "      <th>Anomaly_in_motor_amps_sensor</th>\n",
       "      <th>Anomaly_in_motor_rpm_sensor</th>\n",
       "      <th>Anomaly</th>\n",
       "    </tr>\n",
       "  </thead>\n",
       "  <tbody>\n",
       "    <tr>\n",
       "      <th>0</th>\n",
       "      <td>2023-02-15 12:52:39</td>\n",
       "      <td>0.131665</td>\n",
       "      <td>0.925426</td>\n",
       "      <td>0.377807</td>\n",
       "      <td>0.654359</td>\n",
       "      <td>0.939365</td>\n",
       "      <td>0.920529</td>\n",
       "      <td>0.925424</td>\n",
       "      <td>0.956132</td>\n",
       "      <td>False</td>\n",
       "      <td>False</td>\n",
       "      <td>False</td>\n",
       "      <td>True</td>\n",
       "      <td>True</td>\n",
       "    </tr>\n",
       "    <tr>\n",
       "      <th>11</th>\n",
       "      <td>2023-02-15 14:42:39</td>\n",
       "      <td>0.939367</td>\n",
       "      <td>0.127059</td>\n",
       "      <td>0.085962</td>\n",
       "      <td>0.699507</td>\n",
       "      <td>0.939365</td>\n",
       "      <td>0.920529</td>\n",
       "      <td>0.925424</td>\n",
       "      <td>0.956132</td>\n",
       "      <td>True</td>\n",
       "      <td>False</td>\n",
       "      <td>False</td>\n",
       "      <td>False</td>\n",
       "      <td>True</td>\n",
       "    </tr>\n",
       "    <tr>\n",
       "      <th>15</th>\n",
       "      <td>2023-02-15 15:22:39</td>\n",
       "      <td>0.939393</td>\n",
       "      <td>0.074472</td>\n",
       "      <td>0.079314</td>\n",
       "      <td>0.043865</td>\n",
       "      <td>0.939365</td>\n",
       "      <td>0.920529</td>\n",
       "      <td>0.925424</td>\n",
       "      <td>0.956132</td>\n",
       "      <td>True</td>\n",
       "      <td>False</td>\n",
       "      <td>False</td>\n",
       "      <td>False</td>\n",
       "      <td>True</td>\n",
       "    </tr>\n",
       "    <tr>\n",
       "      <th>23</th>\n",
       "      <td>2023-02-15 16:42:39</td>\n",
       "      <td>0.939371</td>\n",
       "      <td>0.074506</td>\n",
       "      <td>0.019978</td>\n",
       "      <td>0.956131</td>\n",
       "      <td>0.939365</td>\n",
       "      <td>0.920529</td>\n",
       "      <td>0.925424</td>\n",
       "      <td>0.956132</td>\n",
       "      <td>True</td>\n",
       "      <td>False</td>\n",
       "      <td>False</td>\n",
       "      <td>False</td>\n",
       "      <td>True</td>\n",
       "    </tr>\n",
       "    <tr>\n",
       "      <th>39</th>\n",
       "      <td>2023-02-15 19:22:39</td>\n",
       "      <td>0.939374</td>\n",
       "      <td>0.074502</td>\n",
       "      <td>0.079360</td>\n",
       "      <td>0.946924</td>\n",
       "      <td>0.939365</td>\n",
       "      <td>0.920529</td>\n",
       "      <td>0.925424</td>\n",
       "      <td>0.956132</td>\n",
       "      <td>True</td>\n",
       "      <td>False</td>\n",
       "      <td>False</td>\n",
       "      <td>False</td>\n",
       "      <td>True</td>\n",
       "    </tr>\n",
       "    <tr>\n",
       "      <th>41</th>\n",
       "      <td>2023-02-15 19:42:39</td>\n",
       "      <td>0.054297</td>\n",
       "      <td>0.160299</td>\n",
       "      <td>0.920542</td>\n",
       "      <td>0.043878</td>\n",
       "      <td>0.939365</td>\n",
       "      <td>0.920529</td>\n",
       "      <td>0.925424</td>\n",
       "      <td>0.956132</td>\n",
       "      <td>False</td>\n",
       "      <td>False</td>\n",
       "      <td>True</td>\n",
       "      <td>False</td>\n",
       "      <td>True</td>\n",
       "    </tr>\n",
       "    <tr>\n",
       "      <th>43</th>\n",
       "      <td>2023-02-15 20:02:39</td>\n",
       "      <td>0.939337</td>\n",
       "      <td>0.925441</td>\n",
       "      <td>0.079446</td>\n",
       "      <td>0.956124</td>\n",
       "      <td>0.939365</td>\n",
       "      <td>0.920529</td>\n",
       "      <td>0.925424</td>\n",
       "      <td>0.956132</td>\n",
       "      <td>False</td>\n",
       "      <td>False</td>\n",
       "      <td>False</td>\n",
       "      <td>True</td>\n",
       "      <td>True</td>\n",
       "    </tr>\n",
       "    <tr>\n",
       "      <th>58</th>\n",
       "      <td>2023-02-15 22:32:39</td>\n",
       "      <td>0.939367</td>\n",
       "      <td>0.074512</td>\n",
       "      <td>0.098781</td>\n",
       "      <td>0.956130</td>\n",
       "      <td>0.939365</td>\n",
       "      <td>0.920529</td>\n",
       "      <td>0.925424</td>\n",
       "      <td>0.956132</td>\n",
       "      <td>True</td>\n",
       "      <td>False</td>\n",
       "      <td>False</td>\n",
       "      <td>False</td>\n",
       "      <td>True</td>\n",
       "    </tr>\n",
       "    <tr>\n",
       "      <th>62</th>\n",
       "      <td>2023-02-15 23:12:39</td>\n",
       "      <td>0.060609</td>\n",
       "      <td>0.074472</td>\n",
       "      <td>0.079306</td>\n",
       "      <td>0.956138</td>\n",
       "      <td>0.939365</td>\n",
       "      <td>0.920529</td>\n",
       "      <td>0.925424</td>\n",
       "      <td>0.956132</td>\n",
       "      <td>False</td>\n",
       "      <td>True</td>\n",
       "      <td>False</td>\n",
       "      <td>False</td>\n",
       "      <td>True</td>\n",
       "    </tr>\n",
       "    <tr>\n",
       "      <th>72</th>\n",
       "      <td>2023-02-16 00:52:39</td>\n",
       "      <td>0.337248</td>\n",
       "      <td>0.925511</td>\n",
       "      <td>0.079341</td>\n",
       "      <td>0.006511</td>\n",
       "      <td>0.939365</td>\n",
       "      <td>0.920529</td>\n",
       "      <td>0.925424</td>\n",
       "      <td>0.956132</td>\n",
       "      <td>False</td>\n",
       "      <td>False</td>\n",
       "      <td>False</td>\n",
       "      <td>True</td>\n",
       "      <td>True</td>\n",
       "    </tr>\n",
       "    <tr>\n",
       "      <th>75</th>\n",
       "      <td>2023-02-16 01:22:39</td>\n",
       "      <td>0.038722</td>\n",
       "      <td>0.925457</td>\n",
       "      <td>0.403107</td>\n",
       "      <td>0.043874</td>\n",
       "      <td>0.939365</td>\n",
       "      <td>0.920529</td>\n",
       "      <td>0.925424</td>\n",
       "      <td>0.956132</td>\n",
       "      <td>False</td>\n",
       "      <td>False</td>\n",
       "      <td>False</td>\n",
       "      <td>True</td>\n",
       "      <td>True</td>\n",
       "    </tr>\n",
       "    <tr>\n",
       "      <th>77</th>\n",
       "      <td>2023-02-16 01:42:39</td>\n",
       "      <td>0.117049</td>\n",
       "      <td>0.925499</td>\n",
       "      <td>0.079358</td>\n",
       "      <td>0.402546</td>\n",
       "      <td>0.939365</td>\n",
       "      <td>0.920529</td>\n",
       "      <td>0.925424</td>\n",
       "      <td>0.956132</td>\n",
       "      <td>False</td>\n",
       "      <td>False</td>\n",
       "      <td>False</td>\n",
       "      <td>True</td>\n",
       "      <td>True</td>\n",
       "    </tr>\n",
       "    <tr>\n",
       "      <th>78</th>\n",
       "      <td>2023-02-16 01:52:39</td>\n",
       "      <td>0.060662</td>\n",
       "      <td>0.074557</td>\n",
       "      <td>0.920557</td>\n",
       "      <td>0.043876</td>\n",
       "      <td>0.939365</td>\n",
       "      <td>0.920529</td>\n",
       "      <td>0.925424</td>\n",
       "      <td>0.956132</td>\n",
       "      <td>False</td>\n",
       "      <td>False</td>\n",
       "      <td>True</td>\n",
       "      <td>False</td>\n",
       "      <td>True</td>\n",
       "    </tr>\n",
       "    <tr>\n",
       "      <th>81</th>\n",
       "      <td>2023-02-16 02:22:39</td>\n",
       "      <td>0.021458</td>\n",
       "      <td>0.925463</td>\n",
       "      <td>0.079412</td>\n",
       "      <td>0.956127</td>\n",
       "      <td>0.939365</td>\n",
       "      <td>0.920529</td>\n",
       "      <td>0.925424</td>\n",
       "      <td>0.956132</td>\n",
       "      <td>False</td>\n",
       "      <td>False</td>\n",
       "      <td>False</td>\n",
       "      <td>True</td>\n",
       "      <td>True</td>\n",
       "    </tr>\n",
       "    <tr>\n",
       "      <th>83</th>\n",
       "      <td>2023-02-16 02:42:39</td>\n",
       "      <td>0.036081</td>\n",
       "      <td>0.074558</td>\n",
       "      <td>0.920556</td>\n",
       "      <td>0.043876</td>\n",
       "      <td>0.939365</td>\n",
       "      <td>0.920529</td>\n",
       "      <td>0.925424</td>\n",
       "      <td>0.956132</td>\n",
       "      <td>False</td>\n",
       "      <td>False</td>\n",
       "      <td>True</td>\n",
       "      <td>False</td>\n",
       "      <td>True</td>\n",
       "    </tr>\n",
       "    <tr>\n",
       "      <th>88</th>\n",
       "      <td>2023-02-16 03:32:39</td>\n",
       "      <td>0.939369</td>\n",
       "      <td>0.338996</td>\n",
       "      <td>0.015786</td>\n",
       "      <td>0.494221</td>\n",
       "      <td>0.939365</td>\n",
       "      <td>0.920529</td>\n",
       "      <td>0.925424</td>\n",
       "      <td>0.956132</td>\n",
       "      <td>True</td>\n",
       "      <td>False</td>\n",
       "      <td>False</td>\n",
       "      <td>False</td>\n",
       "      <td>True</td>\n",
       "    </tr>\n",
       "    <tr>\n",
       "      <th>90</th>\n",
       "      <td>2023-02-16 03:52:39</td>\n",
       "      <td>3.021455</td>\n",
       "      <td>0.074551</td>\n",
       "      <td>0.895175</td>\n",
       "      <td>0.163021</td>\n",
       "      <td>0.939365</td>\n",
       "      <td>0.920529</td>\n",
       "      <td>0.925424</td>\n",
       "      <td>0.956132</td>\n",
       "      <td>True</td>\n",
       "      <td>False</td>\n",
       "      <td>False</td>\n",
       "      <td>False</td>\n",
       "      <td>True</td>\n",
       "    </tr>\n",
       "    <tr>\n",
       "      <th>92</th>\n",
       "      <td>2023-02-16 04:12:39</td>\n",
       "      <td>0.939337</td>\n",
       "      <td>0.925441</td>\n",
       "      <td>0.079446</td>\n",
       "      <td>0.956124</td>\n",
       "      <td>0.939365</td>\n",
       "      <td>0.920529</td>\n",
       "      <td>0.925424</td>\n",
       "      <td>0.956132</td>\n",
       "      <td>False</td>\n",
       "      <td>False</td>\n",
       "      <td>False</td>\n",
       "      <td>True</td>\n",
       "      <td>True</td>\n",
       "    </tr>\n",
       "    <tr>\n",
       "      <th>94</th>\n",
       "      <td>2023-02-16 04:32:39</td>\n",
       "      <td>0.060599</td>\n",
       "      <td>0.925540</td>\n",
       "      <td>0.079296</td>\n",
       "      <td>0.043863</td>\n",
       "      <td>0.939365</td>\n",
       "      <td>0.920529</td>\n",
       "      <td>0.925424</td>\n",
       "      <td>0.956132</td>\n",
       "      <td>False</td>\n",
       "      <td>False</td>\n",
       "      <td>False</td>\n",
       "      <td>True</td>\n",
       "      <td>True</td>\n",
       "    </tr>\n",
       "    <tr>\n",
       "      <th>102</th>\n",
       "      <td>2023-02-16 05:52:39</td>\n",
       "      <td>0.060665</td>\n",
       "      <td>0.074562</td>\n",
       "      <td>0.920550</td>\n",
       "      <td>0.326383</td>\n",
       "      <td>0.939365</td>\n",
       "      <td>0.920529</td>\n",
       "      <td>0.925424</td>\n",
       "      <td>0.956132</td>\n",
       "      <td>False</td>\n",
       "      <td>False</td>\n",
       "      <td>True</td>\n",
       "      <td>False</td>\n",
       "      <td>True</td>\n",
       "    </tr>\n",
       "    <tr>\n",
       "      <th>105</th>\n",
       "      <td>2023-02-16 06:22:39</td>\n",
       "      <td>0.162850</td>\n",
       "      <td>0.163737</td>\n",
       "      <td>0.920540</td>\n",
       "      <td>0.237408</td>\n",
       "      <td>0.939365</td>\n",
       "      <td>0.920529</td>\n",
       "      <td>0.925424</td>\n",
       "      <td>0.956132</td>\n",
       "      <td>False</td>\n",
       "      <td>False</td>\n",
       "      <td>True</td>\n",
       "      <td>False</td>\n",
       "      <td>True</td>\n",
       "    </tr>\n",
       "    <tr>\n",
       "      <th>119</th>\n",
       "      <td>2023-02-16 08:42:39</td>\n",
       "      <td>0.087349</td>\n",
       "      <td>0.017148</td>\n",
       "      <td>0.920546</td>\n",
       "      <td>0.043877</td>\n",
       "      <td>0.939365</td>\n",
       "      <td>0.920529</td>\n",
       "      <td>0.925424</td>\n",
       "      <td>0.956132</td>\n",
       "      <td>False</td>\n",
       "      <td>False</td>\n",
       "      <td>True</td>\n",
       "      <td>False</td>\n",
       "      <td>True</td>\n",
       "    </tr>\n",
       "  </tbody>\n",
       "</table>\n",
       "</div>"
      ],
      "text/plain": [
       "             MEASURE_TS  VIBRATION_LOSS_MAE  MOTOR_RPM_LOSS_MAE  \\\n",
       "0   2023-02-15 12:52:39            0.131665            0.925426   \n",
       "11  2023-02-15 14:42:39            0.939367            0.127059   \n",
       "15  2023-02-15 15:22:39            0.939393            0.074472   \n",
       "23  2023-02-15 16:42:39            0.939371            0.074506   \n",
       "39  2023-02-15 19:22:39            0.939374            0.074502   \n",
       "41  2023-02-15 19:42:39            0.054297            0.160299   \n",
       "43  2023-02-15 20:02:39            0.939337            0.925441   \n",
       "58  2023-02-15 22:32:39            0.939367            0.074512   \n",
       "62  2023-02-15 23:12:39            0.060609            0.074472   \n",
       "72  2023-02-16 00:52:39            0.337248            0.925511   \n",
       "75  2023-02-16 01:22:39            0.038722            0.925457   \n",
       "77  2023-02-16 01:42:39            0.117049            0.925499   \n",
       "78  2023-02-16 01:52:39            0.060662            0.074557   \n",
       "81  2023-02-16 02:22:39            0.021458            0.925463   \n",
       "83  2023-02-16 02:42:39            0.036081            0.074558   \n",
       "88  2023-02-16 03:32:39            0.939369            0.338996   \n",
       "90  2023-02-16 03:52:39            3.021455            0.074551   \n",
       "92  2023-02-16 04:12:39            0.939337            0.925441   \n",
       "94  2023-02-16 04:32:39            0.060599            0.925540   \n",
       "102 2023-02-16 05:52:39            0.060665            0.074562   \n",
       "105 2023-02-16 06:22:39            0.162850            0.163737   \n",
       "119 2023-02-16 08:42:39            0.087349            0.017148   \n",
       "\n",
       "     MOTOR_AMPS_LOSS_MAE  TEMPERATURE_LOSS_MAE  Threshold_VIBRATION  \\\n",
       "0               0.377807              0.654359             0.939365   \n",
       "11              0.085962              0.699507             0.939365   \n",
       "15              0.079314              0.043865             0.939365   \n",
       "23              0.019978              0.956131             0.939365   \n",
       "39              0.079360              0.946924             0.939365   \n",
       "41              0.920542              0.043878             0.939365   \n",
       "43              0.079446              0.956124             0.939365   \n",
       "58              0.098781              0.956130             0.939365   \n",
       "62              0.079306              0.956138             0.939365   \n",
       "72              0.079341              0.006511             0.939365   \n",
       "75              0.403107              0.043874             0.939365   \n",
       "77              0.079358              0.402546             0.939365   \n",
       "78              0.920557              0.043876             0.939365   \n",
       "81              0.079412              0.956127             0.939365   \n",
       "83              0.920556              0.043876             0.939365   \n",
       "88              0.015786              0.494221             0.939365   \n",
       "90              0.895175              0.163021             0.939365   \n",
       "92              0.079446              0.956124             0.939365   \n",
       "94              0.079296              0.043863             0.939365   \n",
       "102             0.920550              0.326383             0.939365   \n",
       "105             0.920540              0.237408             0.939365   \n",
       "119             0.920546              0.043877             0.939365   \n",
       "\n",
       "     Threshold_MOTOR_AMPS  Threshold_MOTOR_RPM  Threshold_TEMPERATURE  \\\n",
       "0                0.920529             0.925424               0.956132   \n",
       "11               0.920529             0.925424               0.956132   \n",
       "15               0.920529             0.925424               0.956132   \n",
       "23               0.920529             0.925424               0.956132   \n",
       "39               0.920529             0.925424               0.956132   \n",
       "41               0.920529             0.925424               0.956132   \n",
       "43               0.920529             0.925424               0.956132   \n",
       "58               0.920529             0.925424               0.956132   \n",
       "62               0.920529             0.925424               0.956132   \n",
       "72               0.920529             0.925424               0.956132   \n",
       "75               0.920529             0.925424               0.956132   \n",
       "77               0.920529             0.925424               0.956132   \n",
       "78               0.920529             0.925424               0.956132   \n",
       "81               0.920529             0.925424               0.956132   \n",
       "83               0.920529             0.925424               0.956132   \n",
       "88               0.920529             0.925424               0.956132   \n",
       "90               0.920529             0.925424               0.956132   \n",
       "92               0.920529             0.925424               0.956132   \n",
       "94               0.920529             0.925424               0.956132   \n",
       "102              0.920529             0.925424               0.956132   \n",
       "105              0.920529             0.925424               0.956132   \n",
       "119              0.920529             0.925424               0.956132   \n",
       "\n",
       "     Anomaly_in_vibration_sensor  Anomaly_in_temperature_sensor  \\\n",
       "0                          False                          False   \n",
       "11                          True                          False   \n",
       "15                          True                          False   \n",
       "23                          True                          False   \n",
       "39                          True                          False   \n",
       "41                         False                          False   \n",
       "43                         False                          False   \n",
       "58                          True                          False   \n",
       "62                         False                           True   \n",
       "72                         False                          False   \n",
       "75                         False                          False   \n",
       "77                         False                          False   \n",
       "78                         False                          False   \n",
       "81                         False                          False   \n",
       "83                         False                          False   \n",
       "88                          True                          False   \n",
       "90                          True                          False   \n",
       "92                         False                          False   \n",
       "94                         False                          False   \n",
       "102                        False                          False   \n",
       "105                        False                          False   \n",
       "119                        False                          False   \n",
       "\n",
       "     Anomaly_in_motor_amps_sensor  Anomaly_in_motor_rpm_sensor  Anomaly  \n",
       "0                           False                         True     True  \n",
       "11                          False                        False     True  \n",
       "15                          False                        False     True  \n",
       "23                          False                        False     True  \n",
       "39                          False                        False     True  \n",
       "41                           True                        False     True  \n",
       "43                          False                         True     True  \n",
       "58                          False                        False     True  \n",
       "62                          False                        False     True  \n",
       "72                          False                         True     True  \n",
       "75                          False                         True     True  \n",
       "77                          False                         True     True  \n",
       "78                           True                        False     True  \n",
       "81                          False                         True     True  \n",
       "83                           True                        False     True  \n",
       "88                          False                        False     True  \n",
       "90                          False                        False     True  \n",
       "92                          False                         True     True  \n",
       "94                          False                         True     True  \n",
       "102                          True                        False     True  \n",
       "105                          True                        False     True  \n",
       "119                          True                        False     True  "
      ]
     },
     "execution_count": 78,
     "metadata": {},
     "output_type": "execute_result"
    }
   ],
   "source": [
    "#Data with anomalies \n",
    "scored[scored.Anomaly_detected==True]"
   ]
  },
  {
   "cell_type": "code",
   "execution_count": 80,
   "id": "ce110000-1111-2222-3333-ffffff000083",
   "metadata": {
    "language": "python",
    "name": "merge_dataset",
    "resultHeight": 87,
    "tags": []
   },
   "outputs": [
    {
     "data": {
      "image/png": "[encoded data removed]",
      "text/plain": [
       "<Figure size 1120x480 with 1 Axes>"
      ]
     },
     "metadata": {},
     "output_type": "display_data"
    }
   ],
   "source": [
    "#Concat train and test data and plot the anomalies detected\n",
    "merge_test = session.table(\"AE_TEST\").to_pandas()\n",
    "merge_test.index=test.index\n",
    "\n",
    "merge_train = session.table(\"AE_TRAIN\").to_pandas()\n",
    "merge_train.index=train.index\n",
    "\n",
    "merge_concat=pd.concat([merge_train, merge_test])\n",
    "\n",
    "merge_concat.reindex()\n",
    "scored.index = merge_concat.index\n",
    "\n",
    "merge_concat['Anomaly_detected']=scored['Anomaly_detected']\n",
    "\n",
    "anomalies=merge_concat[merge_concat['Anomaly_detected']==True].index\n",
    "merge_concat"
   ]
  },
  {
   "cell_type": "code",
   "execution_count": null,
   "id": "1989cb32-1d8c-4365-9848-e3ebd098984e",
   "metadata": {
    "language": "python",
    "name": "view_merged_Data",
    "resultHeight": 195
   },
   "outputs": [],
   "source": [
    "merge_concat = merge_concat.reset_index(drop=True)\n",
    "\n",
    "# Set 'MEASURE_TS' as the new index\n",
    "merge_concat = merge_concat.set_index('MEASURE_TS')\n",
    "\n",
    "# Drop 'MEASURE_TS' from the column list (it's already set as the index)\n",
    "merge_concat.columns = merge_concat.columns.drop('MEASURE_TS', errors='ignore')\n",
    "\n",
    "# The DataFrame now has 'MEASURE_TS' as the index and no longer appears as a column\n",
    "print(merge_concat.head())"
   ]
  },
  {
   "cell_type": "code",
   "execution_count": null,
   "id": "267e7d8a-3047-4e2d-a374-87527452777d",
   "metadata": {
    "language": "python",
    "name": "plot_data",
    "resultHeight": 71
   },
   "outputs": [],
   "source": [
    "merge_concat.index = pd.to_datetime(merge_concat.index)\n",
    "\n",
    "# Plot the data\n",
    "fig, ax = plt.subplots(figsize=(14, 6), dpi=80)\n",
    "\n",
    "# Plot each sensor's data\n",
    "ax.plot(merge_concat.index, merge_concat['VIBRATION'], label='Vibration', color='blue', linewidth=1)\n",
    "ax.plot(merge_concat.index, merge_concat['MOTOR_RPM'], label='Motor RPM', color='gray', linewidth=1)\n",
    "ax.plot(merge_concat.index, merge_concat['MOTOR_AMPS'], label='Motor Amps', color='green', linewidth=1)\n",
    "ax.plot(merge_concat.index, merge_concat['TEMPERATURE'], label='Temperature', color='black', linewidth=1)\n",
    "\n",
    "# Plot anomalies\n",
    "anomaly_indices = merge_concat[merge_concat['Anomaly_detected'] == True].index\n",
    "for anomaly in anomaly_indices:\n",
    "    plt.axvline(x=anomaly, color='red', alpha=0.3)\n",
    "\n",
    "# Customize the plot\n",
    "plt.legend(loc='lower left')\n",
    "ax.set_title('Sensor Anomaly Detection', fontsize=16)\n",
    "ax.set_xlabel('Timestamp', fontsize=12)\n",
    "ax.set_ylabel('Sensor Values', fontsize=12)\n",
    "ax.xaxis.set_major_formatter(plt.matplotlib.dates.DateFormatter('%Y-%m-%d %H:%M:%S'))  # Format datetime\n",
    "\n",
    "plt.xticks(rotation=45)  # Rotate x-axis labels for better readability\n",
    "plt.grid(alpha=0.3)\n",
    "plt.tight_layout()\n",
    "plt.show()"
   ]
  },
  {
   "cell_type": "code",
   "execution_count": null,
   "id": "a7f6c810-8853-47dc-97d0-bb7685b4d5c1",
   "metadata": {
    "collapsed": false,
    "language": "python",
    "name": "merge_concat_dataset",
    "resultHeight": 0
   },
   "outputs": [],
   "source": [
    "merge_concat.reset_index(inplace=True)\n",
    "merge_concat['MEASURE_TS'] = pd.to_datetime(merge_concat['MEASURE_TS'], unit='s')\n",
    "merge_concat['ANOMALY'] = merge_concat['Anomaly_detected'].astype(str)\n",
    "\n",
    "merge_concatDF=session.create_dataframe(merge_concat)\n",
    "merge_concatDF=merge_concatDF.drop(F.col('\"Anomaly_detected\"'))"
   ]
  },
  {
   "cell_type": "code",
   "execution_count": null,
   "id": "8980d5f3-bea3-47c5-bca5-a2ecede31d04",
   "metadata": {
    "collapsed": false,
    "language": "python",
    "name": "save_anomalydata",
    "resultHeight": 0
   },
   "outputs": [],
   "source": [
    "#Write Anomaly Detected information to a Snowflake table\n",
    "\n",
    "merge_concatDF.write.save_as_table(\"SENSORS_AD_DETECTED\", mode=\"overwrite\")"
   ]
  },
  {
   "cell_type": "code",
   "execution_count": null,
   "id": "fc1f5c23-505f-413a-8152-5c60bba8da93",
   "metadata": {
    "collapsed": false,
    "language": "python",
    "name": "Cortex_Search_Service",
    "resultHeight": 111
   },
   "outputs": [],
   "source": [
    "session.sql(f\"\"\"CREATE OR REPLACE CORTEX SEARCH SERVICE cortex_search_production_data\n",
    "ON listing_text\n",
    "WAREHOUSE = {solution_prefix}\n",
    "TARGET_LAG = '1 hour'\n",
    "AS\n",
    "    SELECT\n",
    "TEMPERATURE,VIBRATION, MOTOR_RPM,  MOTOR_AMPS,MEASURE_TS,ANOMALY,FACTORY_FLOOR,PRODUCTION_UNIT,SHIFT,\n",
    "                                   OPERATOR_ID,MACHINE_STATUS,\n",
    "        ('TEMPERATURE\\n\\n' || TEMPERATURE || '\\n\\n\\VIBRATION\\n\\n' || VIBRATION || '\\n\\n\\\\MOTOR_RPM\\n\\n' || MOTOR_RPM || \n",
    "    'MOTOR_AMPS\\n\\n' || MOTOR_AMPS || \n",
    "    'MEASURE_TS\\n\\n' || MEASURE_TS || \n",
    "    'ANOMALY\\n\\n' || ANOMALY ||\n",
    "    'FACTORY_FLOOR\\n\\n' || FACTORY_FLOOR || \n",
    "    'PRODUCTION_UNIT\\n\\n' || PRODUCTION_UNIT || \n",
    "    'SHIFT\\n\\n' || SHIFT || \n",
    "    'OPERATOR_ID\\n\\n' || OPERATOR_ID || \n",
    "    'MACHINE_STATUS\\n\\n' || MACHINE_STATUS) as listing_text\n",
    "    FROM\n",
    "    sensors_ad_detected\"\"\")"
   ]
  },
  {
   "attachments": {},
   "cell_type": "markdown",
   "id": "ce110000-1111-2222-3333-ffffff000093",
   "metadata": {
    "collapsed": false,
    "name": "Sumamry",
    "resultHeight": 127
   },
   "source": [
    "## Summary\n",
    "The objective to detect anomalies in sensor data by training a Keras LSTM Auto-encoder model is successfully achieved on Snowflake."
   ]
  }
 ]
}